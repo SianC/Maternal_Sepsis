{
 "cells": [
  {
   "cell_type": "code",
   "execution_count": 1,
   "metadata": {},
   "outputs": [],
   "source": [
    "#This is based on https://github.com/aniruddhraghu/sepsisrl/blob/master/preprocessing/process_interventions.ipynb"
   ]
  },
  {
   "cell_type": "code",
   "execution_count": 3,
   "metadata": {},
   "outputs": [],
   "source": [
    "import numpy as np\n",
    "import pandas as pd\n",
    "import matplotlib.pyplot as plt\n",
    "from pandas import DataFrame"
   ]
  },
  {
   "cell_type": "code",
   "execution_count": 4,
   "metadata": {},
   "outputs": [],
   "source": [
    "orig_data = pd.read_csv(\"../Matlab/MIMIC_mimiciii.csv\")"
   ]
  },
  {
   "cell_type": "code",
   "execution_count": 5,
   "metadata": {},
   "outputs": [
    {
     "data": {
      "text/plain": [
       "278578"
      ]
     },
     "execution_count": 5,
     "metadata": {},
     "output_type": "execute_result"
    }
   ],
   "source": [
    "len(orig_data)"
   ]
  },
  {
   "cell_type": "code",
   "execution_count": null,
   "metadata": {},
   "outputs": [],
   "source": []
  },
  {
   "cell_type": "code",
   "execution_count": null,
   "metadata": {},
   "outputs": [],
   "source": []
  },
  {
   "cell_type": "code",
   "execution_count": 6,
   "metadata": {},
   "outputs": [],
   "source": [
    "interventions = orig_data[[\"max_dose_vaso\", \"input_4hourly\"]]"
   ]
  },
  {
   "cell_type": "code",
   "execution_count": 7,
   "metadata": {},
   "outputs": [],
   "source": [
    "adjusted_vaso = interventions[\"max_dose_vaso\"][interventions[\"max_dose_vaso\"] >0]\n",
    "adjusted_iv = interventions[\"input_4hourly\"][interventions[\"input_4hourly\"]>0]"
   ]
  },
  {
   "cell_type": "code",
   "execution_count": 8,
   "metadata": {},
   "outputs": [],
   "source": [
    "vaso_quartiles = adjusted_vaso.quantile([0.25,0.50,0.75])\n",
    "iv_quartiles = adjusted_iv.quantile([0.25,0.5,0.75])"
   ]
  },
  {
   "cell_type": "code",
   "execution_count": 9,
   "metadata": {},
   "outputs": [
    {
     "data": {
      "text/plain": [
       "array([0.08, 0.2 , 0.45])"
      ]
     },
     "execution_count": 9,
     "metadata": {},
     "output_type": "execute_result"
    }
   ],
   "source": [
    "vq = np.array(vaso_quartiles)\n",
    "vq"
   ]
  },
  {
   "cell_type": "code",
   "execution_count": 10,
   "metadata": {},
   "outputs": [
    {
     "data": {
      "text/plain": [
       "array([ 48.2670625, 150.       , 500.       ])"
      ]
     },
     "execution_count": 10,
     "metadata": {},
     "output_type": "execute_result"
    }
   ],
   "source": [
    "ivq = np.array(iv_quartiles)\n",
    "ivq"
   ]
  },
  {
   "cell_type": "code",
   "execution_count": 11,
   "metadata": {},
   "outputs": [],
   "source": [
    "import copy\n",
    "discretised_int = copy.deepcopy(interventions)"
   ]
  },
  {
   "cell_type": "code",
   "execution_count": 12,
   "metadata": {},
   "outputs": [],
   "source": [
    "discretised_int['vaso_input'] = discretised_int['max_dose_vaso']\n",
    "discretised_int['vaso_input'][interventions['max_dose_vaso'] == 0.0] = 0\n",
    "discretised_int['vaso_input'][(interventions['max_dose_vaso'] > 0.0) & (interventions['max_dose_vaso'] < vq[0])] = 1\n",
    "discretised_int['vaso_input'][(interventions['max_dose_vaso'] >= vq[0]) & (interventions['max_dose_vaso'] < vq[1])] = 2\n",
    "discretised_int['vaso_input'][(interventions['max_dose_vaso'] >= vq[1]) & (interventions['max_dose_vaso'] < vq[2])] = 3\n",
    "a = interventions['max_dose_vaso'] >= vq[2]\n",
    "discretised_int['vaso_input'][a] = 4"
   ]
  },
  {
   "cell_type": "code",
   "execution_count": 13,
   "metadata": {},
   "outputs": [],
   "source": [
    "discretised_int['iv_input'] = discretised_int['input_4hourly']\n",
    "discretised_int['iv_input'][interventions['input_4hourly'] == 0.0] = 0\n",
    "discretised_int['iv_input'][(interventions['input_4hourly'] > 0.0) & (interventions['input_4hourly'] < ivq[0])] = 1\n",
    "discretised_int['iv_input'][(interventions['input_4hourly'] >=  ivq[0]) & (interventions['input_4hourly'] <  ivq[1])] = 2\n",
    "discretised_int['iv_input'][(interventions['input_4hourly'] >=  ivq[1]) & (interventions['input_4hourly'] < ivq[2])] = 3\n",
    "discretised_int['iv_input'][(interventions['input_4hourly'] >=  ivq[2])] = 4"
   ]
  },
  {
   "cell_type": "code",
   "execution_count": 14,
   "metadata": {},
   "outputs": [],
   "source": [
    "disc_inp_data = copy.deepcopy(orig_data)"
   ]
  },
  {
   "cell_type": "code",
   "execution_count": 15,
   "metadata": {},
   "outputs": [],
   "source": [
    "disc_inp_data['vaso_input'] = discretised_int['vaso_input']\n",
    "disc_inp_data['iv_input'] = discretised_int['iv_input']"
   ]
  },
  {
   "cell_type": "code",
   "execution_count": 16,
   "metadata": {},
   "outputs": [],
   "source": [
    "#disc_inp_data.to_csv('../Created Data/discretised_input_data.csv', index=False)"
   ]
  },
  {
   "cell_type": "code",
   "execution_count": 17,
   "metadata": {},
   "outputs": [
    {
     "data": {
      "text/plain": [
       "278578"
      ]
     },
     "execution_count": 17,
     "metadata": {},
     "output_type": "execute_result"
    }
   ],
   "source": [
    "len(disc_inp_data)"
   ]
  },
  {
   "cell_type": "code",
   "execution_count": 18,
   "metadata": {},
   "outputs": [
    {
     "data": {
      "text/plain": [
       "0.0    236666\n",
       "3.0     11820\n",
       "4.0     10767\n",
       "1.0     10182\n",
       "2.0      9143\n",
       "Name: vaso_input, dtype: int64"
      ]
     },
     "execution_count": 18,
     "metadata": {},
     "output_type": "execute_result"
    }
   ],
   "source": [
    "disc_inp_data['vaso_input'].value_counts()"
   ]
  },
  {
   "cell_type": "code",
   "execution_count": 19,
   "metadata": {},
   "outputs": [
    {
     "data": {
      "text/plain": [
       "0.0    77330\n",
       "3.0    51005\n",
       "4.0    50345\n",
       "1.0    50312\n",
       "2.0    49586\n",
       "Name: iv_input, dtype: int64"
      ]
     },
     "execution_count": 19,
     "metadata": {},
     "output_type": "execute_result"
    }
   ],
   "source": [
    "disc_inp_data['iv_input'].value_counts()"
   ]
  },
  {
   "cell_type": "code",
   "execution_count": 20,
   "metadata": {},
   "outputs": [],
   "source": [
    "actions = []\n",
    "for i, row in disc_inp_data.iterrows():\n",
    "    if row[\"vaso_input\"] == 0:\n",
    "        if row[\"iv_input\"] == 0:\n",
    "            actions.append(0)\n",
    "        elif row[\"iv_input\"] == 1:\n",
    "            actions.append(5)\n",
    "        elif row[\"iv_input\"] == 2:\n",
    "            actions.append(10)\n",
    "        elif row[\"iv_input\"] == 3:\n",
    "            actions.append(15)\n",
    "        else:\n",
    "            actions.append(20)\n",
    "    elif row[\"vaso_input\"] == 1:\n",
    "        if row[\"iv_input\"] == 0:\n",
    "            actions.append(1)\n",
    "        elif row[\"iv_input\"] == 1:\n",
    "            actions.append(6)\n",
    "        elif row[\"iv_input\"] == 2:\n",
    "            actions.append(11)\n",
    "        elif row[\"iv_input\"] == 3:\n",
    "            actions.append(16)\n",
    "        else:\n",
    "            actions.append(21)\n",
    "    elif row[\"vaso_input\"] == 2:\n",
    "        if row[\"iv_input\"] == 0:\n",
    "            actions.append(2)\n",
    "        elif row[\"iv_input\"] == 1:\n",
    "            actions.append(7)\n",
    "        elif row[\"iv_input\"] == 2:\n",
    "            actions.append(12)\n",
    "        elif row[\"iv_input\"] == 3:\n",
    "            actions.append(17)\n",
    "        else:\n",
    "            actions.append(22)\n",
    "    elif row[\"vaso_input\"] == 3:\n",
    "        if row[\"iv_input\"] == 0:\n",
    "            actions.append(3)\n",
    "        elif row[\"iv_input\"] == 1:\n",
    "            actions.append(8)\n",
    "        elif row[\"iv_input\"] == 2:\n",
    "            actions.append(13)\n",
    "        elif row[\"iv_input\"] == 3:\n",
    "            actions.append(18)\n",
    "        else:\n",
    "            actions.append(23)\n",
    "    else:\n",
    "        if row[\"iv_input\"] == 0:\n",
    "            actions.append(4)\n",
    "        elif row[\"iv_input\"] == 1:\n",
    "            actions.append(9)\n",
    "        elif row[\"iv_input\"] == 2:\n",
    "            actions.append(14)\n",
    "        elif row[\"iv_input\"] == 3:\n",
    "            actions.append(19)\n",
    "        else:\n",
    "            actions.append(24)\n",
    "disc_inp_data[\"action\"] = actions    "
   ]
  },
  {
   "cell_type": "code",
   "execution_count": 21,
   "metadata": {},
   "outputs": [
    {
     "data": {
      "text/html": [
       "<div>\n",
       "<style scoped>\n",
       "    .dataframe tbody tr th:only-of-type {\n",
       "        vertical-align: middle;\n",
       "    }\n",
       "\n",
       "    .dataframe tbody tr th {\n",
       "        vertical-align: top;\n",
       "    }\n",
       "\n",
       "    .dataframe thead th {\n",
       "        text-align: right;\n",
       "    }\n",
       "</style>\n",
       "<table border=\"1\" class=\"dataframe\">\n",
       "  <thead>\n",
       "    <tr style=\"text-align: right;\">\n",
       "      <th></th>\n",
       "      <th>bloc</th>\n",
       "      <th>icustayid</th>\n",
       "      <th>charttime</th>\n",
       "      <th>gender</th>\n",
       "      <th>age</th>\n",
       "      <th>elixhauser</th>\n",
       "      <th>re_admission</th>\n",
       "      <th>died_in_hosp</th>\n",
       "      <th>died_within_48h_of_out_time</th>\n",
       "      <th>mortality_90d</th>\n",
       "      <th>...</th>\n",
       "      <th>input_total</th>\n",
       "      <th>input_4hourly</th>\n",
       "      <th>output_total</th>\n",
       "      <th>output_4hourly</th>\n",
       "      <th>cumulated_balance</th>\n",
       "      <th>SOFA</th>\n",
       "      <th>SIRS</th>\n",
       "      <th>vaso_input</th>\n",
       "      <th>iv_input</th>\n",
       "      <th>action</th>\n",
       "    </tr>\n",
       "  </thead>\n",
       "  <tbody>\n",
       "    <tr>\n",
       "      <th>0</th>\n",
       "      <td>1</td>\n",
       "      <td>3</td>\n",
       "      <td>7245486000</td>\n",
       "      <td>0</td>\n",
       "      <td>17639.8264</td>\n",
       "      <td>0</td>\n",
       "      <td>0</td>\n",
       "      <td>0.0</td>\n",
       "      <td>NaN</td>\n",
       "      <td>1.0</td>\n",
       "      <td>...</td>\n",
       "      <td>5127.0</td>\n",
       "      <td>50.0</td>\n",
       "      <td>13617.0</td>\n",
       "      <td>520.0</td>\n",
       "      <td>-8490.0</td>\n",
       "      <td>6</td>\n",
       "      <td>2</td>\n",
       "      <td>0.0</td>\n",
       "      <td>2.0</td>\n",
       "      <td>10</td>\n",
       "    </tr>\n",
       "    <tr>\n",
       "      <th>1</th>\n",
       "      <td>2</td>\n",
       "      <td>3</td>\n",
       "      <td>7245500400</td>\n",
       "      <td>0</td>\n",
       "      <td>17639.8264</td>\n",
       "      <td>0</td>\n",
       "      <td>0</td>\n",
       "      <td>0.0</td>\n",
       "      <td>NaN</td>\n",
       "      <td>1.0</td>\n",
       "      <td>...</td>\n",
       "      <td>5177.0</td>\n",
       "      <td>50.0</td>\n",
       "      <td>13982.0</td>\n",
       "      <td>365.0</td>\n",
       "      <td>-8805.0</td>\n",
       "      <td>6</td>\n",
       "      <td>2</td>\n",
       "      <td>0.0</td>\n",
       "      <td>2.0</td>\n",
       "      <td>10</td>\n",
       "    </tr>\n",
       "    <tr>\n",
       "      <th>2</th>\n",
       "      <td>3</td>\n",
       "      <td>3</td>\n",
       "      <td>7245514800</td>\n",
       "      <td>0</td>\n",
       "      <td>17639.8264</td>\n",
       "      <td>0</td>\n",
       "      <td>0</td>\n",
       "      <td>0.0</td>\n",
       "      <td>NaN</td>\n",
       "      <td>1.0</td>\n",
       "      <td>...</td>\n",
       "      <td>5227.0</td>\n",
       "      <td>50.0</td>\n",
       "      <td>14262.0</td>\n",
       "      <td>280.0</td>\n",
       "      <td>-9035.0</td>\n",
       "      <td>6</td>\n",
       "      <td>2</td>\n",
       "      <td>0.0</td>\n",
       "      <td>2.0</td>\n",
       "      <td>10</td>\n",
       "    </tr>\n",
       "    <tr>\n",
       "      <th>3</th>\n",
       "      <td>4</td>\n",
       "      <td>3</td>\n",
       "      <td>7245529200</td>\n",
       "      <td>0</td>\n",
       "      <td>17639.8264</td>\n",
       "      <td>0</td>\n",
       "      <td>0</td>\n",
       "      <td>0.0</td>\n",
       "      <td>NaN</td>\n",
       "      <td>1.0</td>\n",
       "      <td>...</td>\n",
       "      <td>5277.0</td>\n",
       "      <td>50.0</td>\n",
       "      <td>14602.0</td>\n",
       "      <td>340.0</td>\n",
       "      <td>-9325.0</td>\n",
       "      <td>6</td>\n",
       "      <td>1</td>\n",
       "      <td>0.0</td>\n",
       "      <td>2.0</td>\n",
       "      <td>10</td>\n",
       "    </tr>\n",
       "    <tr>\n",
       "      <th>4</th>\n",
       "      <td>5</td>\n",
       "      <td>3</td>\n",
       "      <td>7245543600</td>\n",
       "      <td>0</td>\n",
       "      <td>17639.8264</td>\n",
       "      <td>0</td>\n",
       "      <td>0</td>\n",
       "      <td>0.0</td>\n",
       "      <td>NaN</td>\n",
       "      <td>1.0</td>\n",
       "      <td>...</td>\n",
       "      <td>5327.0</td>\n",
       "      <td>50.0</td>\n",
       "      <td>15142.0</td>\n",
       "      <td>540.0</td>\n",
       "      <td>-9815.0</td>\n",
       "      <td>6</td>\n",
       "      <td>2</td>\n",
       "      <td>0.0</td>\n",
       "      <td>2.0</td>\n",
       "      <td>10</td>\n",
       "    </tr>\n",
       "  </tbody>\n",
       "</table>\n",
       "<p>5 rows × 62 columns</p>\n",
       "</div>"
      ],
      "text/plain": [
       "   bloc  icustayid   charttime  gender         age  elixhauser  re_admission  \\\n",
       "0     1          3  7245486000       0  17639.8264           0             0   \n",
       "1     2          3  7245500400       0  17639.8264           0             0   \n",
       "2     3          3  7245514800       0  17639.8264           0             0   \n",
       "3     4          3  7245529200       0  17639.8264           0             0   \n",
       "4     5          3  7245543600       0  17639.8264           0             0   \n",
       "\n",
       "   died_in_hosp  died_within_48h_of_out_time  mortality_90d  ...  input_total  \\\n",
       "0           0.0                          NaN            1.0  ...       5127.0   \n",
       "1           0.0                          NaN            1.0  ...       5177.0   \n",
       "2           0.0                          NaN            1.0  ...       5227.0   \n",
       "3           0.0                          NaN            1.0  ...       5277.0   \n",
       "4           0.0                          NaN            1.0  ...       5327.0   \n",
       "\n",
       "   input_4hourly  output_total  output_4hourly  cumulated_balance  SOFA  SIRS  \\\n",
       "0           50.0       13617.0           520.0            -8490.0     6     2   \n",
       "1           50.0       13982.0           365.0            -8805.0     6     2   \n",
       "2           50.0       14262.0           280.0            -9035.0     6     2   \n",
       "3           50.0       14602.0           340.0            -9325.0     6     1   \n",
       "4           50.0       15142.0           540.0            -9815.0     6     2   \n",
       "\n",
       "   vaso_input  iv_input  action  \n",
       "0         0.0       2.0      10  \n",
       "1         0.0       2.0      10  \n",
       "2         0.0       2.0      10  \n",
       "3         0.0       2.0      10  \n",
       "4         0.0       2.0      10  \n",
       "\n",
       "[5 rows x 62 columns]"
      ]
     },
     "execution_count": 21,
     "metadata": {},
     "output_type": "execute_result"
    }
   ],
   "source": [
    "disc_inp_data.head()"
   ]
  },
  {
   "cell_type": "code",
   "execution_count": 22,
   "metadata": {},
   "outputs": [],
   "source": [
    "disc_inp_data.to_csv('../Fresh_start/discretised_input_data_MIMIC_mimiciii.csv', index=False)"
   ]
  },
  {
   "cell_type": "code",
   "execution_count": null,
   "metadata": {},
   "outputs": [],
   "source": []
  },
  {
   "cell_type": "code",
   "execution_count": null,
   "metadata": {},
   "outputs": [],
   "source": []
  }
 ],
 "metadata": {
  "kernelspec": {
   "display_name": "Python 3",
   "language": "python",
   "name": "python3"
  },
  "language_info": {
   "codemirror_mode": {
    "name": "ipython",
    "version": 3
   },
   "file_extension": ".py",
   "mimetype": "text/x-python",
   "name": "python",
   "nbconvert_exporter": "python",
   "pygments_lexer": "ipython3",
   "version": "3.6.13"
  }
 },
 "nbformat": 4,
 "nbformat_minor": 4
}
