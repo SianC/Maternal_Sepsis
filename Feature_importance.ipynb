{
 "cells": [
  {
   "cell_type": "code",
   "execution_count": 1,
   "id": "c53b49ec-41ec-4647-8037-a113821a9e20",
   "metadata": {},
   "outputs": [],
   "source": [
    "import pandas as pd\n",
    "import numpy as np\n",
    "try:\n",
    "    import cPickle as pickle\n",
    "except ImportError:\n",
    "    import _pickle as pickle\n"
   ]
  },
  {
   "cell_type": "code",
   "execution_count": 2,
   "id": "775e3402-1a19-42a1-82b1-e6147e105b99",
   "metadata": {},
   "outputs": [],
   "source": [
    "from sklearn.ensemble import RandomForestClassifier\n",
    "import seaborn as sns\n",
    "import matplotlib.pyplot as plt"
   ]
  },
  {
   "cell_type": "code",
   "execution_count": 3,
   "id": "e4a78dc6-4e91-4d18-ab67-4dca9d89dec6",
   "metadata": {},
   "outputs": [],
   "source": [
    "df_train = pd.read_csv('D:/MIMICIII/Created Data/Fresh_start/rl_train_set_scaled_rewarded_abchange.csv')"
   ]
  },
  {
   "cell_type": "code",
   "execution_count": 4,
   "id": "830a792d-eb11-4f66-ba06-818b3617e23f",
   "metadata": {},
   "outputs": [],
   "source": [
    "def drop_nan(df):\n",
    "    list_of_nan = []\n",
    "    for i, row in df.iterrows():\n",
    "        if pd.isnull(row[\"bloc\"]):\n",
    "            #print(i)\n",
    "            list_of_nan.append(i)\n",
    "            #print(list_of_nan)\n",
    "    df = df.drop(list_of_nan)\n",
    "    return df"
   ]
  },
  {
   "cell_type": "code",
   "execution_count": 5,
   "id": "0eb2a88b-93a2-481b-82c9-4d56e7fb794c",
   "metadata": {},
   "outputs": [],
   "source": [
    "df_train = drop_nan(df_train)"
   ]
  },
  {
   "cell_type": "code",
   "execution_count": 6,
   "id": "383ce6f4-19e1-4cb0-acf6-ec036b06fb4c",
   "metadata": {},
   "outputs": [],
   "source": [
    "df_val = pd.read_csv('D:/MIMICIII/Created Data/Fresh_start/rl_val_set_scaled_rewarded_abchange.csv')\n",
    "df_val = drop_nan(df_val)"
   ]
  },
  {
   "cell_type": "code",
   "execution_count": 7,
   "id": "debdf7c7-057c-45d7-a3b3-5855efbdb40c",
   "metadata": {},
   "outputs": [],
   "source": [
    "df_test = pd.read_csv('D:/MIMICIII/Created Data/Fresh_start/rl_test_set_scaled_rewarded_abchange.csv')\n",
    "df_test = drop_nan(df_test)"
   ]
  },
  {
   "cell_type": "code",
   "execution_count": null,
   "id": "f3481693-3630-4f43-b5ab-327fd7058168",
   "metadata": {},
   "outputs": [],
   "source": []
  },
  {
   "cell_type": "code",
   "execution_count": 8,
   "id": "01d3d0c8-09fc-40c7-83f4-74c547a09e66",
   "metadata": {},
   "outputs": [],
   "source": [
    "df_orig = pd.read_csv('D:/MIMICIII/Matlab/MIMIC_mimiciii.csv')\n",
    "df_orig = drop_nan(df_orig)\n",
    "for i, row in df_orig.iterrows():\n",
    "    if pd.isnull(row[\"mortality_90d\"]):\n",
    "        df_orig.at[i, \"mortality_90d\"] = 0"
   ]
  },
  {
   "cell_type": "code",
   "execution_count": 9,
   "id": "dd4368b6-a956-4511-a1d3-db3d6ca16680",
   "metadata": {},
   "outputs": [
    {
     "name": "stdout",
     "output_type": "stream",
     "text": [
      "278578 20956 14669 4192 2095\n"
     ]
    }
   ],
   "source": [
    "print(len(df_orig.index), df_orig['icustayid'].nunique(), df_train['icustayid'].nunique(), df_test['icustayid'].nunique(), df_val['icustayid'].nunique())"
   ]
  },
  {
   "cell_type": "code",
   "execution_count": 10,
   "id": "4957e7c5-67b2-4c46-9770-f26984d739ad",
   "metadata": {},
   "outputs": [
    {
     "data": {
      "text/html": [
       "<div>\n",
       "<style scoped>\n",
       "    .dataframe tbody tr th:only-of-type {\n",
       "        vertical-align: middle;\n",
       "    }\n",
       "\n",
       "    .dataframe tbody tr th {\n",
       "        vertical-align: top;\n",
       "    }\n",
       "\n",
       "    .dataframe thead th {\n",
       "        text-align: right;\n",
       "    }\n",
       "</style>\n",
       "<table border=\"1\" class=\"dataframe\">\n",
       "  <thead>\n",
       "    <tr style=\"text-align: right;\">\n",
       "      <th></th>\n",
       "      <th>index</th>\n",
       "      <th>bloc</th>\n",
       "      <th>icustayid</th>\n",
       "      <th>charttime</th>\n",
       "      <th>gender</th>\n",
       "      <th>age</th>\n",
       "      <th>elixhauser</th>\n",
       "      <th>re_admission</th>\n",
       "      <th>died_in_hosp</th>\n",
       "      <th>died_within_48h_of_out_time</th>\n",
       "      <th>...</th>\n",
       "      <th>output_4hourly</th>\n",
       "      <th>cumulated_balance</th>\n",
       "      <th>SOFA</th>\n",
       "      <th>SIRS</th>\n",
       "      <th>vaso_input</th>\n",
       "      <th>iv_input</th>\n",
       "      <th>action</th>\n",
       "      <th>reward</th>\n",
       "      <th>max_dose_vaso_unnorm</th>\n",
       "      <th>abchange_vc</th>\n",
       "    </tr>\n",
       "  </thead>\n",
       "  <tbody>\n",
       "    <tr>\n",
       "      <th>0</th>\n",
       "      <td>0</td>\n",
       "      <td>0.000000</td>\n",
       "      <td>3</td>\n",
       "      <td>7245486000</td>\n",
       "      <td>0.0</td>\n",
       "      <td>0.412268</td>\n",
       "      <td>0.0</td>\n",
       "      <td>0.0</td>\n",
       "      <td>0.0</td>\n",
       "      <td>NaN</td>\n",
       "      <td>...</td>\n",
       "      <td>0.728838</td>\n",
       "      <td>0.382109</td>\n",
       "      <td>0.26087</td>\n",
       "      <td>0.50</td>\n",
       "      <td>0.0</td>\n",
       "      <td>2.0</td>\n",
       "      <td>10</td>\n",
       "      <td>1.303074</td>\n",
       "      <td>0.0</td>\n",
       "      <td>0.0</td>\n",
       "    </tr>\n",
       "    <tr>\n",
       "      <th>1</th>\n",
       "      <td>1</td>\n",
       "      <td>0.222560</td>\n",
       "      <td>3</td>\n",
       "      <td>7245500400</td>\n",
       "      <td>0.0</td>\n",
       "      <td>0.412268</td>\n",
       "      <td>0.0</td>\n",
       "      <td>0.0</td>\n",
       "      <td>0.0</td>\n",
       "      <td>NaN</td>\n",
       "      <td>...</td>\n",
       "      <td>0.698697</td>\n",
       "      <td>0.381732</td>\n",
       "      <td>0.26087</td>\n",
       "      <td>0.50</td>\n",
       "      <td>0.0</td>\n",
       "      <td>2.0</td>\n",
       "      <td>10</td>\n",
       "      <td>-0.025000</td>\n",
       "      <td>0.0</td>\n",
       "      <td>0.0</td>\n",
       "    </tr>\n",
       "    <tr>\n",
       "      <th>2</th>\n",
       "      <td>2</td>\n",
       "      <td>0.356608</td>\n",
       "      <td>3</td>\n",
       "      <td>7245514800</td>\n",
       "      <td>0.0</td>\n",
       "      <td>0.412268</td>\n",
       "      <td>0.0</td>\n",
       "      <td>0.0</td>\n",
       "      <td>0.0</td>\n",
       "      <td>NaN</td>\n",
       "      <td>...</td>\n",
       "      <td>0.676123</td>\n",
       "      <td>0.381457</td>\n",
       "      <td>0.26087</td>\n",
       "      <td>0.50</td>\n",
       "      <td>0.0</td>\n",
       "      <td>2.0</td>\n",
       "      <td>10</td>\n",
       "      <td>-0.025000</td>\n",
       "      <td>0.0</td>\n",
       "      <td>0.0</td>\n",
       "    </tr>\n",
       "    <tr>\n",
       "      <th>3</th>\n",
       "      <td>3</td>\n",
       "      <td>0.452837</td>\n",
       "      <td>3</td>\n",
       "      <td>7245529200</td>\n",
       "      <td>0.0</td>\n",
       "      <td>0.412268</td>\n",
       "      <td>0.0</td>\n",
       "      <td>0.0</td>\n",
       "      <td>0.0</td>\n",
       "      <td>NaN</td>\n",
       "      <td>...</td>\n",
       "      <td>0.692656</td>\n",
       "      <td>0.381110</td>\n",
       "      <td>0.26087</td>\n",
       "      <td>0.25</td>\n",
       "      <td>0.0</td>\n",
       "      <td>2.0</td>\n",
       "      <td>10</td>\n",
       "      <td>-0.025000</td>\n",
       "      <td>0.0</td>\n",
       "      <td>0.0</td>\n",
       "    </tr>\n",
       "    <tr>\n",
       "      <th>4</th>\n",
       "      <td>4</td>\n",
       "      <td>0.527957</td>\n",
       "      <td>3</td>\n",
       "      <td>7245543600</td>\n",
       "      <td>0.0</td>\n",
       "      <td>0.412268</td>\n",
       "      <td>0.0</td>\n",
       "      <td>0.0</td>\n",
       "      <td>0.0</td>\n",
       "      <td>NaN</td>\n",
       "      <td>...</td>\n",
       "      <td>0.732052</td>\n",
       "      <td>0.380524</td>\n",
       "      <td>0.26087</td>\n",
       "      <td>0.50</td>\n",
       "      <td>0.0</td>\n",
       "      <td>2.0</td>\n",
       "      <td>10</td>\n",
       "      <td>-0.025000</td>\n",
       "      <td>0.0</td>\n",
       "      <td>0.0</td>\n",
       "    </tr>\n",
       "  </tbody>\n",
       "</table>\n",
       "<p>5 rows × 66 columns</p>\n",
       "</div>"
      ],
      "text/plain": [
       "   index      bloc  icustayid   charttime  gender       age  elixhauser  \\\n",
       "0      0  0.000000          3  7245486000     0.0  0.412268         0.0   \n",
       "1      1  0.222560          3  7245500400     0.0  0.412268         0.0   \n",
       "2      2  0.356608          3  7245514800     0.0  0.412268         0.0   \n",
       "3      3  0.452837          3  7245529200     0.0  0.412268         0.0   \n",
       "4      4  0.527957          3  7245543600     0.0  0.412268         0.0   \n",
       "\n",
       "   re_admission  died_in_hosp  died_within_48h_of_out_time  ...  \\\n",
       "0           0.0           0.0                          NaN  ...   \n",
       "1           0.0           0.0                          NaN  ...   \n",
       "2           0.0           0.0                          NaN  ...   \n",
       "3           0.0           0.0                          NaN  ...   \n",
       "4           0.0           0.0                          NaN  ...   \n",
       "\n",
       "   output_4hourly  cumulated_balance     SOFA  SIRS  vaso_input  iv_input  \\\n",
       "0        0.728838           0.382109  0.26087  0.50         0.0       2.0   \n",
       "1        0.698697           0.381732  0.26087  0.50         0.0       2.0   \n",
       "2        0.676123           0.381457  0.26087  0.50         0.0       2.0   \n",
       "3        0.692656           0.381110  0.26087  0.25         0.0       2.0   \n",
       "4        0.732052           0.380524  0.26087  0.50         0.0       2.0   \n",
       "\n",
       "   action    reward  max_dose_vaso_unnorm  abchange_vc  \n",
       "0      10  1.303074                   0.0          0.0  \n",
       "1      10 -0.025000                   0.0          0.0  \n",
       "2      10 -0.025000                   0.0          0.0  \n",
       "3      10 -0.025000                   0.0          0.0  \n",
       "4      10 -0.025000                   0.0          0.0  \n",
       "\n",
       "[5 rows x 66 columns]"
      ]
     },
     "execution_count": 10,
     "metadata": {},
     "output_type": "execute_result"
    }
   ],
   "source": [
    "df_train.head()"
   ]
  },
  {
   "cell_type": "code",
   "execution_count": 11,
   "id": "e1e0c214-d3fa-45d0-98b2-07f75e2c7d1d",
   "metadata": {},
   "outputs": [],
   "source": [
    "deeprl2_testactions = pickle.load(open(\"C:/Users/sianc/Documents/PhD/First Year/vasochange4_dqn_normal_10/dqn_normal_actions_test.p\", \"rb\"  ))"
   ]
  },
  {
   "cell_type": "code",
   "execution_count": 12,
   "id": "f9c94301-b15f-46a4-8298-6ee263d17725",
   "metadata": {},
   "outputs": [],
   "source": [
    "deeprl2_valactions = pickle.load(open( \"C:/Users/sianc/Documents/PhD/First Year/vasochange4_dqn_normal_10/dqn_normal_actions_val.p\", \"rb\" ))"
   ]
  },
  {
   "cell_type": "code",
   "execution_count": 13,
   "id": "14a81fa7-5b38-4a2a-bc85-e34c8d81cbf0",
   "metadata": {},
   "outputs": [],
   "source": [
    "deeprl2_trainactions = pickle.load(open( \"C:/Users/sianc/Documents/PhD/First Year/vasochange4_dqn_normal_10/dqn_normal_actions_train.p\", \"rb\" ))"
   ]
  },
  {
   "cell_type": "code",
   "execution_count": 14,
   "id": "5c6bc722-35b4-4328-8c27-60efa82c58f7",
   "metadata": {},
   "outputs": [],
   "source": [
    "inv_action_map = {}\n",
    "count = 0\n",
    "for i in range(5):\n",
    "    for j in range(5):\n",
    "        inv_action_map[count] = [i,j]\n",
    "        count += 1"
   ]
  },
  {
   "cell_type": "code",
   "execution_count": 15,
   "id": "a430c5d7-0efb-4f83-a9aa-a4e3020fd44c",
   "metadata": {},
   "outputs": [],
   "source": [
    "#inv_action_map"
   ]
  },
  {
   "cell_type": "code",
   "execution_count": 16,
   "id": "3b0fd17c-b844-45a5-898b-3d499cd1e4ba",
   "metadata": {},
   "outputs": [],
   "source": [
    "test_actions_arr = np.array([inv_action_map[i] for i in deeprl2_testactions])\n",
    "\n",
    "val_actions_arr = np.array([inv_action_map[i] for i in deeprl2_valactions])\n",
    "\n",
    "train_actions_arr = np.array([inv_action_map[i] for i in deeprl2_trainactions])"
   ]
  },
  {
   "cell_type": "code",
   "execution_count": 17,
   "id": "e6b542de-fa7c-45ed-bfa1-ed2f1d397232",
   "metadata": {},
   "outputs": [],
   "source": [
    "df_test['agent_iv'] = test_actions_arr[:,0]\n",
    "df_test['agent_vaso'] = test_actions_arr[:,1]\n",
    "\n",
    "df_val['agent_iv'] = val_actions_arr[:,0]\n",
    "df_val['agent_vaso'] = val_actions_arr[:,1]\n",
    "\n",
    "df_train['agent_iv'] = train_actions_arr[:,0]\n",
    "df_train['agent_vaso'] = train_actions_arr[:,1]"
   ]
  },
  {
   "cell_type": "code",
   "execution_count": 18,
   "id": "ce46169d-9561-45e3-b3f2-0a71f9e17afb",
   "metadata": {},
   "outputs": [
    {
     "data": {
      "text/html": [
       "<div>\n",
       "<style scoped>\n",
       "    .dataframe tbody tr th:only-of-type {\n",
       "        vertical-align: middle;\n",
       "    }\n",
       "\n",
       "    .dataframe tbody tr th {\n",
       "        vertical-align: top;\n",
       "    }\n",
       "\n",
       "    .dataframe thead th {\n",
       "        text-align: right;\n",
       "    }\n",
       "</style>\n",
       "<table border=\"1\" class=\"dataframe\">\n",
       "  <thead>\n",
       "    <tr style=\"text-align: right;\">\n",
       "      <th></th>\n",
       "      <th>index</th>\n",
       "      <th>bloc</th>\n",
       "      <th>icustayid</th>\n",
       "      <th>charttime</th>\n",
       "      <th>gender</th>\n",
       "      <th>age</th>\n",
       "      <th>elixhauser</th>\n",
       "      <th>re_admission</th>\n",
       "      <th>died_in_hosp</th>\n",
       "      <th>died_within_48h_of_out_time</th>\n",
       "      <th>...</th>\n",
       "      <th>SOFA</th>\n",
       "      <th>SIRS</th>\n",
       "      <th>vaso_input</th>\n",
       "      <th>iv_input</th>\n",
       "      <th>action</th>\n",
       "      <th>reward</th>\n",
       "      <th>max_dose_vaso_unnorm</th>\n",
       "      <th>abchange_vc</th>\n",
       "      <th>agent_iv</th>\n",
       "      <th>agent_vaso</th>\n",
       "    </tr>\n",
       "  </thead>\n",
       "  <tbody>\n",
       "    <tr>\n",
       "      <th>0</th>\n",
       "      <td>0</td>\n",
       "      <td>0.000000</td>\n",
       "      <td>3</td>\n",
       "      <td>7245486000</td>\n",
       "      <td>0.0</td>\n",
       "      <td>0.412268</td>\n",
       "      <td>0.0</td>\n",
       "      <td>0.0</td>\n",
       "      <td>0.0</td>\n",
       "      <td>NaN</td>\n",
       "      <td>...</td>\n",
       "      <td>0.26087</td>\n",
       "      <td>0.50</td>\n",
       "      <td>0.0</td>\n",
       "      <td>2.0</td>\n",
       "      <td>10</td>\n",
       "      <td>1.303074</td>\n",
       "      <td>0.0</td>\n",
       "      <td>0.0</td>\n",
       "      <td>3</td>\n",
       "      <td>1</td>\n",
       "    </tr>\n",
       "    <tr>\n",
       "      <th>1</th>\n",
       "      <td>1</td>\n",
       "      <td>0.222560</td>\n",
       "      <td>3</td>\n",
       "      <td>7245500400</td>\n",
       "      <td>0.0</td>\n",
       "      <td>0.412268</td>\n",
       "      <td>0.0</td>\n",
       "      <td>0.0</td>\n",
       "      <td>0.0</td>\n",
       "      <td>NaN</td>\n",
       "      <td>...</td>\n",
       "      <td>0.26087</td>\n",
       "      <td>0.50</td>\n",
       "      <td>0.0</td>\n",
       "      <td>2.0</td>\n",
       "      <td>10</td>\n",
       "      <td>-0.025000</td>\n",
       "      <td>0.0</td>\n",
       "      <td>0.0</td>\n",
       "      <td>3</td>\n",
       "      <td>1</td>\n",
       "    </tr>\n",
       "    <tr>\n",
       "      <th>2</th>\n",
       "      <td>2</td>\n",
       "      <td>0.356608</td>\n",
       "      <td>3</td>\n",
       "      <td>7245514800</td>\n",
       "      <td>0.0</td>\n",
       "      <td>0.412268</td>\n",
       "      <td>0.0</td>\n",
       "      <td>0.0</td>\n",
       "      <td>0.0</td>\n",
       "      <td>NaN</td>\n",
       "      <td>...</td>\n",
       "      <td>0.26087</td>\n",
       "      <td>0.50</td>\n",
       "      <td>0.0</td>\n",
       "      <td>2.0</td>\n",
       "      <td>10</td>\n",
       "      <td>-0.025000</td>\n",
       "      <td>0.0</td>\n",
       "      <td>0.0</td>\n",
       "      <td>1</td>\n",
       "      <td>0</td>\n",
       "    </tr>\n",
       "    <tr>\n",
       "      <th>3</th>\n",
       "      <td>3</td>\n",
       "      <td>0.452837</td>\n",
       "      <td>3</td>\n",
       "      <td>7245529200</td>\n",
       "      <td>0.0</td>\n",
       "      <td>0.412268</td>\n",
       "      <td>0.0</td>\n",
       "      <td>0.0</td>\n",
       "      <td>0.0</td>\n",
       "      <td>NaN</td>\n",
       "      <td>...</td>\n",
       "      <td>0.26087</td>\n",
       "      <td>0.25</td>\n",
       "      <td>0.0</td>\n",
       "      <td>2.0</td>\n",
       "      <td>10</td>\n",
       "      <td>-0.025000</td>\n",
       "      <td>0.0</td>\n",
       "      <td>0.0</td>\n",
       "      <td>1</td>\n",
       "      <td>0</td>\n",
       "    </tr>\n",
       "    <tr>\n",
       "      <th>4</th>\n",
       "      <td>4</td>\n",
       "      <td>0.527957</td>\n",
       "      <td>3</td>\n",
       "      <td>7245543600</td>\n",
       "      <td>0.0</td>\n",
       "      <td>0.412268</td>\n",
       "      <td>0.0</td>\n",
       "      <td>0.0</td>\n",
       "      <td>0.0</td>\n",
       "      <td>NaN</td>\n",
       "      <td>...</td>\n",
       "      <td>0.26087</td>\n",
       "      <td>0.50</td>\n",
       "      <td>0.0</td>\n",
       "      <td>2.0</td>\n",
       "      <td>10</td>\n",
       "      <td>-0.025000</td>\n",
       "      <td>0.0</td>\n",
       "      <td>0.0</td>\n",
       "      <td>1</td>\n",
       "      <td>0</td>\n",
       "    </tr>\n",
       "  </tbody>\n",
       "</table>\n",
       "<p>5 rows × 68 columns</p>\n",
       "</div>"
      ],
      "text/plain": [
       "   index      bloc  icustayid   charttime  gender       age  elixhauser  \\\n",
       "0      0  0.000000          3  7245486000     0.0  0.412268         0.0   \n",
       "1      1  0.222560          3  7245500400     0.0  0.412268         0.0   \n",
       "2      2  0.356608          3  7245514800     0.0  0.412268         0.0   \n",
       "3      3  0.452837          3  7245529200     0.0  0.412268         0.0   \n",
       "4      4  0.527957          3  7245543600     0.0  0.412268         0.0   \n",
       "\n",
       "   re_admission  died_in_hosp  died_within_48h_of_out_time  ...     SOFA  \\\n",
       "0           0.0           0.0                          NaN  ...  0.26087   \n",
       "1           0.0           0.0                          NaN  ...  0.26087   \n",
       "2           0.0           0.0                          NaN  ...  0.26087   \n",
       "3           0.0           0.0                          NaN  ...  0.26087   \n",
       "4           0.0           0.0                          NaN  ...  0.26087   \n",
       "\n",
       "   SIRS  vaso_input  iv_input  action    reward  max_dose_vaso_unnorm  \\\n",
       "0  0.50         0.0       2.0      10  1.303074                   0.0   \n",
       "1  0.50         0.0       2.0      10 -0.025000                   0.0   \n",
       "2  0.50         0.0       2.0      10 -0.025000                   0.0   \n",
       "3  0.25         0.0       2.0      10 -0.025000                   0.0   \n",
       "4  0.50         0.0       2.0      10 -0.025000                   0.0   \n",
       "\n",
       "   abchange_vc  agent_iv  agent_vaso  \n",
       "0          0.0         3           1  \n",
       "1          0.0         3           1  \n",
       "2          0.0         1           0  \n",
       "3          0.0         1           0  \n",
       "4          0.0         1           0  \n",
       "\n",
       "[5 rows x 68 columns]"
      ]
     },
     "execution_count": 18,
     "metadata": {},
     "output_type": "execute_result"
    }
   ],
   "source": [
    "df_train.head()"
   ]
  },
  {
   "cell_type": "code",
   "execution_count": 19,
   "id": "847c6d5f-e90e-4e89-8aac-8e1a39662203",
   "metadata": {},
   "outputs": [],
   "source": [
    "rl_data = pd.concat([df_train, df_test],ignore_index=True, axis=0)"
   ]
  },
  {
   "cell_type": "code",
   "execution_count": 20,
   "id": "5ff94781-c0b0-4657-a469-dcbdf9ec1199",
   "metadata": {},
   "outputs": [],
   "source": [
    "rl_data = pd.concat([rl_data, df_val], ignore_index=True, axis =0)"
   ]
  },
  {
   "cell_type": "code",
   "execution_count": 21,
   "id": "538e6fb2-394d-4546-9517-ef6d1ead9fa4",
   "metadata": {},
   "outputs": [
    {
     "data": {
      "text/plain": [
       "(278578, 68)"
      ]
     },
     "execution_count": 21,
     "metadata": {},
     "output_type": "execute_result"
    }
   ],
   "source": [
    "rl_data.shape"
   ]
  },
  {
   "cell_type": "code",
   "execution_count": 22,
   "id": "d7d6b521-9b2c-43df-8a7d-e8858008ec4f",
   "metadata": {},
   "outputs": [],
   "source": [
    "##### extract the columns of interest to examine the feature importance\n",
    "state_features_vc_clinician = ['gender','mechvent','re_admission', 'age','Weight_kg','GCS','HR','SysBP','MeanBP',\n",
    "                  'DiaBP','RR','Temp_C','FiO2_1','Potassium','Sodium','Chloride','Glucose','Magnesium','Calcium','Hb',\n",
    "                  'WBC_count','Platelets_count','PTT','PT','Arterial_pH','paO2','paCO2','Arterial_BE','HCO3',\n",
    "                  'Arterial_lactate','SOFA','SIRS','Shock_Index','PaO2_FiO2','cumulated_balance', 'SpO2','BUN',\n",
    "                  'Creatinine','SGOT','SGPT','Total_bili','INR','input_total','input_4hourly','output_total', \n",
    "                  'output_4hourly', 'vaso_input']"
   ]
  },
  {
   "cell_type": "code",
   "execution_count": 23,
   "id": "022aac8f-35e2-49b7-bc32-826452fbe269",
   "metadata": {},
   "outputs": [],
   "source": [
    "state_features_vc_ai = ['gender','mechvent','re_admission', 'age','Weight_kg','GCS','HR','SysBP','MeanBP',\n",
    "                  'DiaBP','RR','Temp_C','FiO2_1','Potassium','Sodium','Chloride','Glucose','Magnesium','Calcium','Hb',\n",
    "                  'WBC_count','Platelets_count','PTT','PT','Arterial_pH','paO2','paCO2','Arterial_BE','HCO3',\n",
    "                  'Arterial_lactate','SOFA','SIRS','Shock_Index','PaO2_FiO2','cumulated_balance', 'SpO2','BUN',\n",
    "                  'Creatinine','SGOT','SGPT','Total_bili','INR','input_total','input_4hourly','output_total', \n",
    "                  'output_4hourly', 'agent_vaso']"
   ]
  },
  {
   "cell_type": "code",
   "execution_count": 24,
   "id": "440b3f19-2cf1-4a07-a9b4-13364490ea52",
   "metadata": {},
   "outputs": [],
   "source": [
    "df_clinician = rl_data[state_features_vc_clinician]\n",
    "df_ai = rl_data[state_features_vc_ai]"
   ]
  },
  {
   "cell_type": "code",
   "execution_count": 25,
   "id": "8a633165-09c5-4cb3-bdf0-65b28e5a7644",
   "metadata": {},
   "outputs": [
    {
     "name": "stderr",
     "output_type": "stream",
     "text": [
      "C:\\Users\\sianc\\anaconda3\\envs\\willthiswork\\lib\\site-packages\\ipykernel_launcher.py:3: SettingWithCopyWarning: \n",
      "A value is trying to be set on a copy of a slice from a DataFrame.\n",
      "Try using .loc[row_indexer,col_indexer] = value instead\n",
      "\n",
      "See the caveats in the documentation: https://pandas.pydata.org/pandas-docs/stable/user_guide/indexing.html#returning-a-view-versus-a-copy\n",
      "  This is separate from the ipykernel package so we can avoid doing imports until\n",
      "C:\\Users\\sianc\\anaconda3\\envs\\willthiswork\\lib\\site-packages\\ipykernel_launcher.py:7: SettingWithCopyWarning: \n",
      "A value is trying to be set on a copy of a slice from a DataFrame.\n",
      "Try using .loc[row_indexer,col_indexer] = value instead\n",
      "\n",
      "See the caveats in the documentation: https://pandas.pydata.org/pandas-docs/stable/user_guide/indexing.html#returning-a-view-versus-a-copy\n",
      "  import sys\n"
     ]
    }
   ],
   "source": [
    "labels_clinician = np.array(df_clinician['vaso_input'])\n",
    "labels_clinician[labels_clinician > 0] = 1 \n",
    "df_clinician['vaso_input'] = labels_clinician\n",
    "\n",
    "labels_ai = np.array(df_ai['agent_vaso'])\n",
    "labels_ai[labels_ai > 0] = 1 \n",
    "df_ai['agent_vaso'] = labels_ai"
   ]
  },
  {
   "cell_type": "code",
   "execution_count": 26,
   "id": "f411e3e6-65a7-45dd-89dc-32571e0e01e4",
   "metadata": {},
   "outputs": [],
   "source": [
    "def too_large(df):\n",
    "    df = df.astype(np.float32)\n",
    "    df.replace([np.inf, -np.inf], np.nan, inplace=True)\n",
    "    df = df.fillna(0)\n",
    "    return df\n",
    "#print(df_clinician['vaso_input'].dtype)"
   ]
  },
  {
   "cell_type": "code",
   "execution_count": 27,
   "id": "87f08ffa-a999-408c-860d-8b9c55a48c7d",
   "metadata": {},
   "outputs": [],
   "source": [
    "y_train = df_clinician['vaso_input']\n",
    "X_train = df_clinician.drop('vaso_input', axis = 1)\n",
    "y_train = too_large(y_train)\n",
    "X_train = too_large(X_train)"
   ]
  },
  {
   "cell_type": "code",
   "execution_count": 28,
   "id": "27ae5c8a-a534-4061-808d-37c8a58a5bcb",
   "metadata": {},
   "outputs": [],
   "source": [
    "y_train1 = df_ai['agent_vaso']\n",
    "X_train1 = df_ai.drop('agent_vaso', axis = 1)\n",
    "y_train1 = too_large(y_train1)\n",
    "X_train1 = too_large(X_train1)"
   ]
  },
  {
   "cell_type": "code",
   "execution_count": 29,
   "id": "6a4c4dbd-de75-4f71-845d-9671a3144d37",
   "metadata": {},
   "outputs": [
    {
     "data": {
      "text/plain": [
       "RandomForestClassifier(n_jobs=-1, oob_score=True, random_state=42)"
      ]
     },
     "execution_count": 29,
     "metadata": {},
     "output_type": "execute_result"
    }
   ],
   "source": [
    "clf = RandomForestClassifier(n_estimators=100,  n_jobs=-1, oob_score = True, bootstrap = True, random_state=42)\n",
    "clf.fit(X_train,y_train)"
   ]
  },
  {
   "cell_type": "code",
   "execution_count": 30,
   "id": "ac437e8f-5c11-4b06-9445-de1fe119c2b3",
   "metadata": {},
   "outputs": [
    {
     "data": {
      "text/plain": [
       "RandomForestClassifier(n_jobs=-1, oob_score=True, random_state=42)"
      ]
     },
     "execution_count": 30,
     "metadata": {},
     "output_type": "execute_result"
    }
   ],
   "source": [
    "clf1 = RandomForestClassifier(n_estimators=100,  n_jobs=-1, oob_score = True, bootstrap = True, random_state=42)\n",
    "clf1.fit(X_train1,y_train1)"
   ]
  },
  {
   "cell_type": "code",
   "execution_count": 31,
   "id": "944952fa-7fa7-4f87-be41-11ac1e86b9f6",
   "metadata": {},
   "outputs": [],
   "source": [
    "from sklearn.ensemble._forest import _generate_unsampled_indices\n",
    "def oob_classifier_accuracy(clf, X_train, y_train):\n",
    "    \"\"\"\n",
    "    Compute out-of-bag (OOB) accuracy for a scikit-learn random forest\n",
    "    classifier. We learned the guts of scikit's RF from the BSD licensed\n",
    "    code:\n",
    "    https://github.com/scikit-learn/scikit-learn/blob/a24c8b46/sklearn/ensemble/forest.py#L425\n",
    "    \"\"\"\n",
    "    X = X_train.values\n",
    "    y = y_train.values\n",
    "\n",
    "    n_samples = len(X)\n",
    "    n_classes = len(np.unique(y))\n",
    "    predictions = np.zeros((n_samples, n_classes))\n",
    "    for tree in clf.estimators_:\n",
    "        unsampled_indices = _generate_unsampled_indices(tree.random_state, n_samples, n_samples)\n",
    "        tree_preds = tree.predict_proba(X[unsampled_indices, :])\n",
    "        predictions[unsampled_indices] += tree_preds\n",
    "\n",
    "    predicted_class_indexes = np.argmax(predictions, axis=1)\n",
    "    predicted_classes = [clf.classes_[i] for i in predicted_class_indexes]\n",
    "\n",
    "    oob_score = np.mean(y == predicted_classes)\n",
    "    return oob_score"
   ]
  },
  {
   "cell_type": "code",
   "execution_count": 32,
   "id": "5f0d0605-0d2f-4a98-a1b6-2eda3bf9ff37",
   "metadata": {},
   "outputs": [],
   "source": [
    "\n",
    "from sklearn.ensemble._forest import _generate_unsampled_indices\n",
    "def oob_classifier_accuracy1(clf1, X_train1, y_train1):\n",
    "    \"\"\"\n",
    "    Compute out-of-bag (OOB) accuracy for a scikit-learn random forest\n",
    "    classifier. We learned the guts of scikit's RF from the BSD licensed\n",
    "    code:\n",
    "    https://github.com/scikit-learn/scikit-learn/blob/a24c8b46/sklearn/ensemble/forest.py#L425\n",
    "    \"\"\"\n",
    "    X = X_train1.values\n",
    "    y = y_train1.values\n",
    "\n",
    "    n_samples = len(X)\n",
    "    n_classes = len(np.unique(y))\n",
    "    predictions = np.zeros((n_samples, n_classes))\n",
    "    for tree in clf1.estimators_:\n",
    "        unsampled_indices = _generate_unsampled_indices(tree.random_state, n_samples, n_samples)\n",
    "        tree_preds = tree.predict_proba(X[unsampled_indices, :])\n",
    "        predictions[unsampled_indices] += tree_preds\n",
    "\n",
    "    predicted_class_indexes = np.argmax(predictions, axis=1)\n",
    "    predicted_classes = [clf1.classes_[i] for i in predicted_class_indexes]\n",
    "\n",
    "    oob_score = np.mean(y == predicted_classes)\n",
    "    return oob_score"
   ]
  },
  {
   "cell_type": "code",
   "execution_count": 33,
   "id": "b5f624ba-80b2-4443-9132-5ecc1dacb3f6",
   "metadata": {},
   "outputs": [],
   "source": [
    "from sklearn.inspection import permutation_importance"
   ]
  },
  {
   "cell_type": "code",
   "execution_count": 34,
   "id": "9c37d905-560c-40c5-a540-7ae82e825e22",
   "metadata": {
    "tags": []
   },
   "outputs": [
    {
     "data": {
      "image/png": "[encoded data removed]",
      "text/plain": [
       "<Figure size 360x720 with 1 Axes>"
      ]
     },
     "metadata": {
      "needs_background": "light"
     },
     "output_type": "display_data"
    }
   ],
   "source": [
    "from sklearn.inspection import permutation_importance\n",
    "\n",
    "result = permutation_importance(clf, X_train, y_train, n_repeats=10, scoring = oob_classifier_accuracy,\n",
    "                                random_state=42)\n",
    "#sorted_idx = result.importances_mean.argsort()\n",
    "feat_importances_sk = pd.Series(result.importances_mean, index=X_train.columns)\n",
    "feat_importances_sk = feat_importances_sk.sort_values(ascending=True)\n",
    "feat_importances_sk.plot(kind='barh', figsize=(5,10))\n",
    "plt.show()"
   ]
  },
  {
   "cell_type": "code",
   "execution_count": 35,
   "id": "32477350-d3e2-43b6-9459-67a8695a4ee0",
   "metadata": {},
   "outputs": [
    {
     "data": {
      "image/png": "[encoded data removed]",
      "text/plain": [
       "<Figure size 360x720 with 1 Axes>"
      ]
     },
     "metadata": {
      "needs_background": "light"
     },
     "output_type": "display_data"
    }
   ],
   "source": [
    "result1 = permutation_importance(clf1, X_train1, y_train1, n_repeats=10, scoring = oob_classifier_accuracy1,\n",
    "                                random_state=42)\n",
    "\n",
    "feat_importances_sk1 = pd.Series(result1.importances_mean, index=X_train1.columns)\n",
    "feat_importances_sk1 = feat_importances_sk1.sort_values(ascending=True)\n",
    "feat_importances_sk1.plot(kind='barh', figsize=(5,10))\n",
    "plt.show()"
   ]
  },
  {
   "cell_type": "code",
   "execution_count": 36,
   "id": "826fd8e7-bc00-4e02-9e42-93f29a954b48",
   "metadata": {},
   "outputs": [
    {
     "data": {
      "image/png": "[encoded data removed]",
      "text/plain": [
       "<Figure size 576x576 with 2 Axes>"
      ]
     },
     "metadata": {
      "needs_background": "light"
     },
     "output_type": "display_data"
    }
   ],
   "source": [
    "fig, (ax1, ax2) = plt.subplots(1, 2, figsize=(8, 8))\n",
    "feat_importances = pd.Series(clf.feature_importances_, index=X_train.columns)\n",
    "feat_importances = feat_importances.sort_values(ascending=True)\n",
    "feat_importances1 = pd.Series(clf1.feature_importances_, index=X_train1.columns)\n",
    "feat_importances1 = feat_importances1.sort_values(ascending=True)\n",
    "feat_importances.plot(ax=ax1, kind='barh')\n",
    "feat_importances1.plot(ax=ax2, kind='barh')\n",
    "ax1.set_title(\"Original Data\")\n",
    "ax1.set_xlim([0, 0.1])\n",
    "ax2.set_title(\"Our Model\")\n",
    "ax2.set_xlim([0, 0.1])\n",
    "fig.tight_layout()\n",
    "plt.show()"
   ]
  },
  {
   "cell_type": "code",
   "execution_count": 40,
   "id": "788ce4ab-f9f1-4d50-a336-712d778ed609",
   "metadata": {},
   "outputs": [],
   "source": [
    "#fig, (ax1, ax2) = plt.subplots(1, 2, figsize=(8, 8))\n",
    "#feat_importances = pd.Series(clf.feature_importances_, index=X_train.columns)\n",
    "#feat_importances = feat_importances.sort_values(ascending=True)\n",
    "\n",
    "#feat_importances_sk.plot(ax=ax1, kind='barh')\n",
    "#feat_importances_sk1.plot(ax=ax2, kind='barh')\n",
    "#ax1.set_title(\"Clinician policy\")\n",
    "#ax1.set_xlim([0, 0.15])\n",
    "#ax2.set_title(\"Modified policy\")\n",
    "#ax2.set_xlim([0, 0.15])\n",
    "#fig.text(0.5, -0.02, 'Feature Importance', ha='center', fontsize=14)\n",
    "#fig.text(-0.02, 0.5, 'Features', va='center', rotation='vertical', fontsize = 15)\n",
    "#fig.tight_layout()\n",
    "#plt.show()"
   ]
  },
  {
   "cell_type": "code",
   "execution_count": 41,
   "id": "7ebc4db0-5a5e-4e6f-adec-1789dbac1cc8",
   "metadata": {},
   "outputs": [
    {
     "ename": "ModuleNotFoundError",
     "evalue": "No module named 'eli5'",
     "output_type": "error",
     "traceback": [
      "\u001b[1;31m---------------------------------------------------------------------------\u001b[0m",
      "\u001b[1;31mModuleNotFoundError\u001b[0m                       Traceback (most recent call last)",
      "\u001b[1;32m<ipython-input-41-c9beba575ef5>\u001b[0m in \u001b[0;36m<module>\u001b[1;34m\u001b[0m\n\u001b[1;32m----> 1\u001b[1;33m \u001b[1;32mfrom\u001b[0m \u001b[0meli5\u001b[0m\u001b[1;33m.\u001b[0m\u001b[0msklearn\u001b[0m \u001b[1;32mimport\u001b[0m \u001b[0mPermutationImportance\u001b[0m\u001b[1;33m\u001b[0m\u001b[1;33m\u001b[0m\u001b[0m\n\u001b[0m\u001b[0;32m      2\u001b[0m \u001b[0mperm\u001b[0m \u001b[1;33m=\u001b[0m \u001b[0mPermutationImportance\u001b[0m\u001b[1;33m(\u001b[0m\u001b[0mclf\u001b[0m\u001b[1;33m,\u001b[0m \u001b[0mcv\u001b[0m \u001b[1;33m=\u001b[0m \u001b[1;32mNone\u001b[0m\u001b[1;33m,\u001b[0m \u001b[0mscoring\u001b[0m \u001b[1;33m=\u001b[0m \u001b[0moob_classifier_accuracy\u001b[0m\u001b[1;33m,\u001b[0m \u001b[0mrefit\u001b[0m \u001b[1;33m=\u001b[0m \u001b[1;32mFalse\u001b[0m\u001b[1;33m,\u001b[0m \u001b[0mn_iter\u001b[0m \u001b[1;33m=\u001b[0m \u001b[1;36m10\u001b[0m\u001b[1;33m)\u001b[0m\u001b[1;33m.\u001b[0m\u001b[0mfit\u001b[0m\u001b[1;33m(\u001b[0m\u001b[0mX_train\u001b[0m\u001b[1;33m,\u001b[0m \u001b[0my_train\u001b[0m\u001b[1;33m)\u001b[0m\u001b[1;33m\u001b[0m\u001b[1;33m\u001b[0m\u001b[0m\n\u001b[0;32m      3\u001b[0m \u001b[0mfeat_importances_eli\u001b[0m \u001b[1;33m=\u001b[0m \u001b[0mpd\u001b[0m\u001b[1;33m.\u001b[0m\u001b[0mSeries\u001b[0m\u001b[1;33m(\u001b[0m\u001b[0mperm\u001b[0m\u001b[1;33m.\u001b[0m\u001b[0mfeature_importances_\u001b[0m\u001b[1;33m,\u001b[0m \u001b[0mindex\u001b[0m\u001b[1;33m=\u001b[0m\u001b[0mX_train\u001b[0m\u001b[1;33m.\u001b[0m\u001b[0mcolumns\u001b[0m\u001b[1;33m)\u001b[0m\u001b[1;33m\u001b[0m\u001b[1;33m\u001b[0m\u001b[0m\n\u001b[0;32m      4\u001b[0m \u001b[0mfeat_importances_elitt\u001b[0m \u001b[1;33m=\u001b[0m \u001b[0mfeat_importances_eli\u001b[0m\u001b[1;33m.\u001b[0m\u001b[0msort_values\u001b[0m\u001b[1;33m(\u001b[0m\u001b[0mascending\u001b[0m\u001b[1;33m=\u001b[0m\u001b[1;32mTrue\u001b[0m\u001b[1;33m)\u001b[0m\u001b[1;33m\u001b[0m\u001b[1;33m\u001b[0m\u001b[0m\n\u001b[0;32m      5\u001b[0m \u001b[0mfeat_importances_elitt\u001b[0m\u001b[1;33m.\u001b[0m\u001b[0mplot\u001b[0m\u001b[1;33m(\u001b[0m\u001b[0mkind\u001b[0m\u001b[1;33m=\u001b[0m\u001b[1;34m'barh'\u001b[0m\u001b[1;33m,\u001b[0m \u001b[0mfigsize\u001b[0m\u001b[1;33m=\u001b[0m\u001b[1;33m(\u001b[0m\u001b[1;36m5\u001b[0m\u001b[1;33m,\u001b[0m\u001b[1;36m10\u001b[0m\u001b[1;33m)\u001b[0m\u001b[1;33m)\u001b[0m\u001b[1;33m\u001b[0m\u001b[1;33m\u001b[0m\u001b[0m\n",
      "\u001b[1;31mModuleNotFoundError\u001b[0m: No module named 'eli5'"
     ]
    }
   ],
   "source": [
    "from eli5.sklearn import PermutationImportance\n",
    "perm = PermutationImportance(clf, cv = None, scoring = oob_classifier_accuracy, refit = False, n_iter = 10).fit(X_train, y_train)\n",
    "feat_importances_eli = pd.Series(perm.feature_importances_, index=X_train.columns)\n",
    "feat_importances_elitt = feat_importances_eli.sort_values(ascending=True)\n",
    "feat_importances_elitt.plot(kind='barh', figsize=(5,10))\n",
    "plt.show()"
   ]
  },
  {
   "cell_type": "code",
   "execution_count": null,
   "id": "7746c611-c9a7-43df-8542-ddff71e9a245",
   "metadata": {},
   "outputs": [],
   "source": [
    "perm1 = PermutationImportance(clf1, cv = None, scoring = oob_classifier_accuracy1, refit = False, n_iter = 10).fit(X_train1, y_train1)\n",
    "feat_importances_eli1 = pd.Series(perm1.feature_importances_, index=X_train1.columns)\n",
    "feat_importances_eli1 = feat_importances_eli1.sort_values(ascending=True)\n",
    "feat_importances_eli1.plot(kind='barh', figsize=(5,10))\n",
    "plt.show()"
   ]
  },
  {
   "cell_type": "code",
   "execution_count": null,
   "id": "5bd04072-e405-4be7-92b4-bf3ec3372e0f",
   "metadata": {},
   "outputs": [],
   "source": [
    "from rfpimp import permutation_importances\n",
    "perm_imp_rfpimp = permutation_importances(clf, X_train, y_train, oob_classifier_accuracy, n_samples=X_train.shape[0])\n",
    "perm_imp_rfpimp = perm_imp_rfpimp.sort_values(by = 'Importance', ascending=True)\n",
    "perm_imp_rfpimp.plot(kind='barh', figsize=(5,10))"
   ]
  },
  {
   "cell_type": "code",
   "execution_count": null,
   "id": "3b1dffe0-15cc-4657-b8f8-7ea1c8f18287",
   "metadata": {},
   "outputs": [],
   "source": [
    "from rfpimp import permutation_importances\n",
    "perm_imp_rfpimp1 = permutation_importances(clf1, X_train1, y_train1, oob_classifier_accuracy1, n_samples=X_train1.shape[0])\n",
    "perm_imp_rfpimp1 = perm_imp_rfpimp1.sort_values(by = 'Importance', ascending=True)\n",
    "perm_imp_rfpimp1.plot(kind='barh', figsize=(5,10))"
   ]
  },
  {
   "cell_type": "code",
   "execution_count": null,
   "id": "9f4ffadd-0ae5-4d88-880c-0a27f229f6db",
   "metadata": {},
   "outputs": [],
   "source": []
  },
  {
   "cell_type": "code",
   "execution_count": null,
   "id": "2e1f31e1-a02a-4cf9-92c7-fe73f7fd3da7",
   "metadata": {},
   "outputs": [],
   "source": []
  },
  {
   "cell_type": "code",
   "execution_count": null,
   "id": "12614a5e-7ebc-4acf-a3d6-624f5232f2c8",
   "metadata": {},
   "outputs": [],
   "source": []
  }
 ],
 "metadata": {
  "kernelspec": {
   "display_name": "Python 3",
   "language": "python",
   "name": "python3"
  },
  "language_info": {
   "codemirror_mode": {
    "name": "ipython",
    "version": 3
   },
   "file_extension": ".py",
   "mimetype": "text/x-python",
   "name": "python",
   "nbconvert_exporter": "python",
   "pygments_lexer": "ipython3",
   "version": "3.6.13"
  }
 },
 "nbformat": 4,
 "nbformat_minor": 5
}
