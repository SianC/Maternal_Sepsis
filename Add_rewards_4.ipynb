{
 "cells": [
  {
   "cell_type": "code",
   "execution_count": 40,
   "metadata": {},
   "outputs": [],
   "source": [
    "#This is based on https://github.com/aniruddhraghu/sepsisrl/blob/master/preprocessing"
   ]
  },
  {
   "cell_type": "code",
   "execution_count": 20,
   "metadata": {},
   "outputs": [],
   "source": [
    "import pandas as pd\n",
    "import numpy as np\n",
    "try:\n",
    "    import cPickle as pickle\n",
    "except ImportError:\n",
    "    import _pickle as pickle"
   ]
  },
  {
   "cell_type": "code",
   "execution_count": 21,
   "metadata": {},
   "outputs": [],
   "source": [
    "df = pd.read_csv('D:/MIMICIII/Created Data/Fresh_start/discretised_input_data_MIMIC_mimiciii.csv')\n",
    "#df_train = pd.read_csv('D:/MIMICIII/Created Data/rl_train_set_scaled.csv')\n",
    "#df_val =  pd.read_csv('D:/MIMICIII/Created Data/rl_val_set_scaled.csv')\n",
    "#df_test = pd.read_csv('D:/MIMICIII/Created Data/rl_test_set_scaled.csv')\n",
    "#df_pregnant = pd.read_csv('D:/MIMICIII/Created Data/rl_old_set_scaled.csv')"
   ]
  },
  {
   "cell_type": "code",
   "execution_count": 22,
   "metadata": {},
   "outputs": [
    {
     "data": {
      "text/html": [
       "<div>\n",
       "<style scoped>\n",
       "    .dataframe tbody tr th:only-of-type {\n",
       "        vertical-align: middle;\n",
       "    }\n",
       "\n",
       "    .dataframe tbody tr th {\n",
       "        vertical-align: top;\n",
       "    }\n",
       "\n",
       "    .dataframe thead th {\n",
       "        text-align: right;\n",
       "    }\n",
       "</style>\n",
       "<table border=\"1\" class=\"dataframe\">\n",
       "  <thead>\n",
       "    <tr style=\"text-align: right;\">\n",
       "      <th></th>\n",
       "      <th>bloc</th>\n",
       "      <th>icustayid</th>\n",
       "      <th>charttime</th>\n",
       "      <th>gender</th>\n",
       "      <th>age</th>\n",
       "      <th>elixhauser</th>\n",
       "      <th>re_admission</th>\n",
       "      <th>died_in_hosp</th>\n",
       "      <th>died_within_48h_of_out_time</th>\n",
       "      <th>mortality_90d</th>\n",
       "      <th>...</th>\n",
       "      <th>input_total</th>\n",
       "      <th>input_4hourly</th>\n",
       "      <th>output_total</th>\n",
       "      <th>output_4hourly</th>\n",
       "      <th>cumulated_balance</th>\n",
       "      <th>SOFA</th>\n",
       "      <th>SIRS</th>\n",
       "      <th>vaso_input</th>\n",
       "      <th>iv_input</th>\n",
       "      <th>action</th>\n",
       "    </tr>\n",
       "  </thead>\n",
       "  <tbody>\n",
       "    <tr>\n",
       "      <th>0</th>\n",
       "      <td>1</td>\n",
       "      <td>3</td>\n",
       "      <td>7245486000</td>\n",
       "      <td>0</td>\n",
       "      <td>17639.8264</td>\n",
       "      <td>0</td>\n",
       "      <td>0</td>\n",
       "      <td>0.0</td>\n",
       "      <td>NaN</td>\n",
       "      <td>1.0</td>\n",
       "      <td>...</td>\n",
       "      <td>5127.0</td>\n",
       "      <td>50.0</td>\n",
       "      <td>13617.0</td>\n",
       "      <td>520.0</td>\n",
       "      <td>-8490.0</td>\n",
       "      <td>6</td>\n",
       "      <td>2</td>\n",
       "      <td>0.0</td>\n",
       "      <td>2.0</td>\n",
       "      <td>10</td>\n",
       "    </tr>\n",
       "    <tr>\n",
       "      <th>1</th>\n",
       "      <td>2</td>\n",
       "      <td>3</td>\n",
       "      <td>7245500400</td>\n",
       "      <td>0</td>\n",
       "      <td>17639.8264</td>\n",
       "      <td>0</td>\n",
       "      <td>0</td>\n",
       "      <td>0.0</td>\n",
       "      <td>NaN</td>\n",
       "      <td>1.0</td>\n",
       "      <td>...</td>\n",
       "      <td>5177.0</td>\n",
       "      <td>50.0</td>\n",
       "      <td>13982.0</td>\n",
       "      <td>365.0</td>\n",
       "      <td>-8805.0</td>\n",
       "      <td>6</td>\n",
       "      <td>2</td>\n",
       "      <td>0.0</td>\n",
       "      <td>2.0</td>\n",
       "      <td>10</td>\n",
       "    </tr>\n",
       "    <tr>\n",
       "      <th>2</th>\n",
       "      <td>3</td>\n",
       "      <td>3</td>\n",
       "      <td>7245514800</td>\n",
       "      <td>0</td>\n",
       "      <td>17639.8264</td>\n",
       "      <td>0</td>\n",
       "      <td>0</td>\n",
       "      <td>0.0</td>\n",
       "      <td>NaN</td>\n",
       "      <td>1.0</td>\n",
       "      <td>...</td>\n",
       "      <td>5227.0</td>\n",
       "      <td>50.0</td>\n",
       "      <td>14262.0</td>\n",
       "      <td>280.0</td>\n",
       "      <td>-9035.0</td>\n",
       "      <td>6</td>\n",
       "      <td>2</td>\n",
       "      <td>0.0</td>\n",
       "      <td>2.0</td>\n",
       "      <td>10</td>\n",
       "    </tr>\n",
       "    <tr>\n",
       "      <th>3</th>\n",
       "      <td>4</td>\n",
       "      <td>3</td>\n",
       "      <td>7245529200</td>\n",
       "      <td>0</td>\n",
       "      <td>17639.8264</td>\n",
       "      <td>0</td>\n",
       "      <td>0</td>\n",
       "      <td>0.0</td>\n",
       "      <td>NaN</td>\n",
       "      <td>1.0</td>\n",
       "      <td>...</td>\n",
       "      <td>5277.0</td>\n",
       "      <td>50.0</td>\n",
       "      <td>14602.0</td>\n",
       "      <td>340.0</td>\n",
       "      <td>-9325.0</td>\n",
       "      <td>6</td>\n",
       "      <td>1</td>\n",
       "      <td>0.0</td>\n",
       "      <td>2.0</td>\n",
       "      <td>10</td>\n",
       "    </tr>\n",
       "    <tr>\n",
       "      <th>4</th>\n",
       "      <td>5</td>\n",
       "      <td>3</td>\n",
       "      <td>7245543600</td>\n",
       "      <td>0</td>\n",
       "      <td>17639.8264</td>\n",
       "      <td>0</td>\n",
       "      <td>0</td>\n",
       "      <td>0.0</td>\n",
       "      <td>NaN</td>\n",
       "      <td>1.0</td>\n",
       "      <td>...</td>\n",
       "      <td>5327.0</td>\n",
       "      <td>50.0</td>\n",
       "      <td>15142.0</td>\n",
       "      <td>540.0</td>\n",
       "      <td>-9815.0</td>\n",
       "      <td>6</td>\n",
       "      <td>2</td>\n",
       "      <td>0.0</td>\n",
       "      <td>2.0</td>\n",
       "      <td>10</td>\n",
       "    </tr>\n",
       "  </tbody>\n",
       "</table>\n",
       "<p>5 rows × 62 columns</p>\n",
       "</div>"
      ],
      "text/plain": [
       "   bloc  icustayid   charttime  gender         age  elixhauser  re_admission  \\\n",
       "0     1          3  7245486000       0  17639.8264           0             0   \n",
       "1     2          3  7245500400       0  17639.8264           0             0   \n",
       "2     3          3  7245514800       0  17639.8264           0             0   \n",
       "3     4          3  7245529200       0  17639.8264           0             0   \n",
       "4     5          3  7245543600       0  17639.8264           0             0   \n",
       "\n",
       "   died_in_hosp  died_within_48h_of_out_time  mortality_90d  ...  input_total  \\\n",
       "0           0.0                          NaN            1.0  ...       5127.0   \n",
       "1           0.0                          NaN            1.0  ...       5177.0   \n",
       "2           0.0                          NaN            1.0  ...       5227.0   \n",
       "3           0.0                          NaN            1.0  ...       5277.0   \n",
       "4           0.0                          NaN            1.0  ...       5327.0   \n",
       "\n",
       "   input_4hourly  output_total  output_4hourly  cumulated_balance  SOFA  SIRS  \\\n",
       "0           50.0       13617.0           520.0            -8490.0     6     2   \n",
       "1           50.0       13982.0           365.0            -8805.0     6     2   \n",
       "2           50.0       14262.0           280.0            -9035.0     6     2   \n",
       "3           50.0       14602.0           340.0            -9325.0     6     1   \n",
       "4           50.0       15142.0           540.0            -9815.0     6     2   \n",
       "\n",
       "   vaso_input  iv_input  action  \n",
       "0         0.0       2.0      10  \n",
       "1         0.0       2.0      10  \n",
       "2         0.0       2.0      10  \n",
       "3         0.0       2.0      10  \n",
       "4         0.0       2.0      10  \n",
       "\n",
       "[5 rows x 62 columns]"
      ]
     },
     "execution_count": 22,
     "metadata": {},
     "output_type": "execute_result"
    }
   ],
   "source": [
    "df.head()"
   ]
  },
  {
   "cell_type": "code",
   "execution_count": 23,
   "metadata": {},
   "outputs": [],
   "source": [
    "c0 = -0.1/4\n",
    "c1 = -0.5/4\n",
    "c2 = -2"
   ]
  },
  {
   "cell_type": "code",
   "execution_count": 24,
   "metadata": {},
   "outputs": [
    {
     "name": "stdout",
     "output_type": "stream",
     "text": [
      "-0.025000     49804\n",
      " 0.125000     17236\n",
      " 15.000000    16040\n",
      "-0.125000     15165\n",
      " 0.250000      8276\n",
      "              ...  \n",
      "-0.116671         1\n",
      " 2.853070         1\n",
      "-0.571398         1\n",
      " 0.344274         1\n",
      "-0.197695         1\n",
      "Name: reward, Length: 44531, dtype: int64\n",
      "-0.025000     49804\n",
      " 0.125000     17236\n",
      " 15.000000    16040\n",
      "-0.125000     15165\n",
      " 0.250000      8276\n",
      "              ...  \n",
      "-0.116671         1\n",
      " 2.853070         1\n",
      "-0.571398         1\n",
      " 0.344274         1\n",
      "-0.197695         1\n",
      "Name: reward, Length: 44531, dtype: int64\n"
     ]
    }
   ],
   "source": [
    "#Add rewards\n",
    "df[\"mortality_90d\"] = df[\"mortality_90d\"].fillna(0)\n",
    "df['reward'] = 0\n",
    "for i in df.index:\n",
    "    if i == 0:\n",
    "        continue\n",
    "    # add intermediate rewards\n",
    "    elif df.loc[i, 'icustayid'] == df.loc[i-1, 'icustayid']:\n",
    "        sofa_cur = df.loc[i,'SOFA']\n",
    "        sofa_prev = df.loc[i-1,'SOFA']\n",
    "        lact_cur = df.loc[i,'Arterial_lactate']\n",
    "        lact_prev = df.loc[i-1,'Arterial_lactate']\n",
    "        reward = 0\n",
    "        if sofa_cur == sofa_prev and sofa_cur != 0:\n",
    "            reward += c0\n",
    "        reward += c1*(sofa_cur-sofa_prev)\n",
    "        reward += c2*np.tanh(lact_cur - lact_prev)\n",
    "        df.loc[i-1,'reward'] = reward\n",
    "    \n",
    "    #Add final rewards\n",
    "    elif df.loc[i, 'icustayid'] != df.loc[i-1, 'icustayid']:\n",
    "        if df.loc[i-1, 'mortality_90d'] == 1.0:\n",
    "                df.loc[i-1,'reward'] = -15\n",
    "                \n",
    "        elif df.loc[i-1, 'mortality_90d'] == 0.0:\n",
    "            df.loc[i-1,'reward'] = 15\n",
    "        else:\n",
    "            print(\"error in row\", i-1)\n",
    "    elif i % 10000 == 0:\n",
    "        print(i)\n",
    "if df.loc[len(df)-1, 'mortality_90d'] == 1.0:\n",
    "    df.loc[len(df)-1, 'reward'] = -15\n",
    "elif df.loc[len(df)-1, 'mortality_90d'] == 0.0:\n",
    "     df.loc[len(df)-1, 'reward'] = 15\n",
    "print(df['reward'].value_counts())\n",
    "\n",
    "print(df['reward'].value_counts())"
   ]
  },
  {
   "cell_type": "code",
   "execution_count": 25,
   "metadata": {},
   "outputs": [],
   "source": [
    "#df[\"mortality_90d\"] = df[\"mortality_90d\"].fillna(0)\n",
    "#Set final rewards\n",
    "#df['reward'] = 0\n",
    "#for i in df.index:\n",
    "#    if i == 0:\n",
    "#        continue\n",
    "#    else:\n",
    "#        if df.loc[i, 'icustayid'] != df.loc[i-1, 'icustayid']:\n",
    "#            \n",
    "#            if df.loc[i-1, 'mortality_90d'] == 1.0:\n",
    "#                df.loc[i-1,'reward'] = -15\n",
    "#                \n",
    "#            elif df.loc[i-1, 'mortality_90d'] == 0.0:\n",
    "#                df.loc[i-1,'reward'] = 15\n",
    "#            else:\n",
    "#                print(\"error in row\", i-1)\n",
    "#if df.loc[len(df)-1, 'mortality_90d'] == 1.0:\n",
    "#    df.loc[len(df)-1, 'reward'] = -15\n",
    "#elif df.loc[len(df)-1, 'mortality_90d'] == 0.0:\n",
    "#     df.loc[len(df)-1, 'reward'] = 15\n",
    "#print(df['reward'].value_counts())"
   ]
  },
  {
   "cell_type": "code",
   "execution_count": 26,
   "metadata": {},
   "outputs": [],
   "source": [
    "# Smaller rewards to improve comparisons\n",
    "\n",
    "#df.loc[df['reward'] > 15,'reward'] = 15\n",
    "#df.loc[df['reward'] < -15,'reward'] = -15\n",
    "\n",
    "#df_train.loc[df_train['reward'] > 15,'reward'] = 15\n",
    "#df_train.loc[df_train['reward'] < -15,'reward'] = -15\n",
    "\n",
    "#df_val.loc[df_val['reward'] > 15,'reward'] = 15\n",
    "#df_val.loc[df_val['reward'] < -15,'reward'] = -15\n",
    "\n",
    "#df_test.loc[df_test['reward'] > 15,'reward'] = 15\n",
    "#df_test.loc[df_test['reward'] < -15,'reward'] = -15\n",
    "\n",
    "#df_pregnant.loc[df_pregnant['reward'] > 15,'reward'] = 15\n",
    "#df_pregnant.loc[df_pregnant['reward'] < -15,'reward'] = -15"
   ]
  },
  {
   "cell_type": "code",
   "execution_count": 27,
   "metadata": {},
   "outputs": [],
   "source": [
    "#orig_df = pd.read_csv('D:/MIMICIII/Matlab/pre_process_data.csv')"
   ]
  },
  {
   "cell_type": "code",
   "execution_count": 28,
   "metadata": {},
   "outputs": [],
   "source": [
    "#len(orig_df)"
   ]
  },
  {
   "cell_type": "code",
   "execution_count": 29,
   "metadata": {},
   "outputs": [],
   "source": [
    "#c0 = -0.1/4\n",
    "#c1 = -0.5/4\n",
    "#c2 = -2"
   ]
  },
  {
   "cell_type": "code",
   "execution_count": 30,
   "metadata": {},
   "outputs": [],
   "source": [
    "# add intermediate rewards\n",
    "#orig_df['shaped_reward'] = 0\n",
    "#for i in orig_df.index:\n",
    "#    if i == 0:\n",
    "#        continue\n",
    "#    if orig_df.loc[i, 'icustayid'] == orig_df.loc[i-1, 'icustayid']:\n",
    "#        sofa_cur = orig_df.loc[i,'SOFA']\n",
    "#        sofa_prev = orig_df.loc[i-1,'SOFA']\n",
    "#        lact_cur = orig_df.loc[i,'Arterial_lactate']\n",
    "#        lact_prev = orig_df.loc[i-1,'Arterial_lactate']\n",
    "#        reward = 0\n",
    "#        if sofa_cur == sofa_prev and sofa_cur != 0:\n",
    "#            reward += c0\n",
    "#        reward += c1*(sofa_cur-sofa_prev)\n",
    "#        reward += c2*np.tanh(lact_cur - lact_prev)\n",
    "#        orig_df.loc[i-1,'shaped_reward'] = reward\n",
    "#    if i % 10000 == 0:\n",
    "#        print(i)\n",
    "\n",
    "\n",
    "#print(orig_df['shaped_reward'].value_counts())"
   ]
  },
  {
   "cell_type": "code",
   "execution_count": null,
   "metadata": {},
   "outputs": [],
   "source": []
  },
  {
   "cell_type": "code",
   "execution_count": 31,
   "metadata": {},
   "outputs": [
    {
     "data": {
      "text/plain": [
       "<AxesSubplot:>"
      ]
     },
     "execution_count": 31,
     "metadata": {},
     "output_type": "execute_result"
    },
    {
     "data": {
      "image/png": "[encoded data removed]",
      "text/plain": [
       "<Figure size 432x288 with 1 Axes>"
      ]
     },
     "metadata": {
      "needs_background": "light"
     },
     "output_type": "display_data"
    }
   ],
   "source": [
    "%matplotlib inline\n",
    "df['reward'].hist(bins=100)"
   ]
  },
  {
   "cell_type": "code",
   "execution_count": 32,
   "metadata": {},
   "outputs": [],
   "source": [
    "#train_ids = df_train['icustayid'].unique()\n",
    "#val_ids = df_val['icustayid'].unique()\n",
    "#test_ids = df_test['icustayid'].unique()\n",
    "#preg_ids = df_pregnant[\"icustayid\"].unique()\n",
    "#df_ids = df[\"icustayid\"].unique()"
   ]
  },
  {
   "cell_type": "code",
   "execution_count": 33,
   "metadata": {},
   "outputs": [],
   "source": [
    "#train_rewards = orig_df.loc[orig_df['icustayid'].isin(train_ids)]['shaped_reward']"
   ]
  },
  {
   "cell_type": "code",
   "execution_count": 34,
   "metadata": {},
   "outputs": [],
   "source": [
    "#val_rewards = orig_df.loc[orig_df['icustayid'].isin(val_ids)]['shaped_reward']"
   ]
  },
  {
   "cell_type": "code",
   "execution_count": 35,
   "metadata": {},
   "outputs": [],
   "source": [
    "#test_rewards = orig_df.loc[orig_df['icustayid'].isin(test_ids)]['shaped_reward']\n",
    "#pregnant_rewards = orig_df.loc[orig_df['icustayid'].isin(preg_ids)]['shaped_reward']"
   ]
  },
  {
   "cell_type": "code",
   "execution_count": 36,
   "metadata": {},
   "outputs": [],
   "source": [
    "#df_rewards = orig_df.loc[orig_df['icustayid'].isin(df_ids)]['shaped_reward']"
   ]
  },
  {
   "cell_type": "code",
   "execution_count": 37,
   "metadata": {},
   "outputs": [],
   "source": [
    "#len(df_train) + len(df_test) + len(df_val)\n",
    "#len(df_pregnant)"
   ]
  },
  {
   "cell_type": "code",
   "execution_count": 38,
   "metadata": {},
   "outputs": [],
   "source": [
    "#len(pregnant_rewards)"
   ]
  },
  {
   "cell_type": "code",
   "execution_count": 39,
   "metadata": {},
   "outputs": [],
   "source": [
    "#len(orig_df['shaped_reward'])"
   ]
  },
  {
   "cell_type": "code",
   "execution_count": 40,
   "metadata": {},
   "outputs": [],
   "source": [
    "#df_train['reward'] += np.array(train_rewards)\n",
    "#df_val['reward'] += np.array(val_rewards)\n",
    "#df_test['reward'] += np.array(test_rewards)\n",
    "#df_pregnant['reward'] += np.array(pregnant_rewards)\n",
    "#df['reward'] += np.array(df_rewards)"
   ]
  },
  {
   "cell_type": "code",
   "execution_count": 41,
   "metadata": {},
   "outputs": [],
   "source": [
    "#df_train.to_csv('D:/MIMICIII/Created Data/rl_train_data_final_cont.csv',index=False)\n",
    "#df_val.to_csv('D:/MIMICIII/Created Data/rl_val_data_final_cont.csv', index=False)\n",
    "#df_test.to_csv('D:/MIMICIII/Created Data/rl_test_data_final_cont.csv',index=False)\n",
    "#df_pregnant.to_csv('D:/MIMICIII/Created Data/rl_old_data_final_cont.csv',index=False)\n",
    "df.to_csv('D:/MIMICIII/Created Data/Fresh_start/did_MIMIC_mimiciii_with_rewards.csv',index=False)"
   ]
  },
  {
   "cell_type": "code",
   "execution_count": 64,
   "metadata": {},
   "outputs": [],
   "source": [
    "#df_train['reward'].describe()"
   ]
  },
  {
   "cell_type": "code",
   "execution_count": null,
   "metadata": {},
   "outputs": [],
   "source": []
  },
  {
   "cell_type": "code",
   "execution_count": null,
   "metadata": {},
   "outputs": [],
   "source": []
  }
 ],
 "metadata": {
  "kernelspec": {
   "display_name": "Python 3",
   "language": "python",
   "name": "python3"
  },
  "language_info": {
   "codemirror_mode": {
    "name": "ipython",
    "version": 3
   },
   "file_extension": ".py",
   "mimetype": "text/x-python",
   "name": "python",
   "nbconvert_exporter": "python",
   "pygments_lexer": "ipython3",
   "version": "3.6.13"
  }
 },
 "nbformat": 4,
 "nbformat_minor": 4
}
