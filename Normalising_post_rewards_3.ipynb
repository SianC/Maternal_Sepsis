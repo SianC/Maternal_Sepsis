{
 "cells": [
  {
   "cell_type": "code",
   "execution_count": 27,
   "id": "61e5043a-e669-4d4a-ad2d-4b5a13810e42",
   "metadata": {},
   "outputs": [],
   "source": [
    "import numpy as np\n",
    "import pandas as pd\n",
    "from pandas import DataFrame"
   ]
  },
  {
   "cell_type": "code",
   "execution_count": 28,
   "id": "97c4b829-ef3a-4290-913b-4a1c1d20cdad",
   "metadata": {},
   "outputs": [],
   "source": [
    "disc_inp_data = pd.read_csv('D:/MIMICIII/Created Data/Fresh_start/did_MIMIC_mimiciii_with_rewards.csv')"
   ]
  },
  {
   "cell_type": "code",
   "execution_count": null,
   "id": "efb1730b-19e8-4ac0-bb93-836df4ee2a8c",
   "metadata": {},
   "outputs": [],
   "source": []
  },
  {
   "cell_type": "code",
   "execution_count": 29,
   "id": "94fb80e2-bca2-4e74-ae69-4c3779f87bf6",
   "metadata": {},
   "outputs": [],
   "source": [
    "#Comment out when running pregnant and control cohort data through\n",
    "# now split into train/validation/test sets\n",
    "import random\n",
    "unique_ids = disc_inp_data['icustayid'].unique()\n",
    "random.shuffle(unique_ids)\n",
    "train_sample = 0.7\n",
    "val_sample = 0.1\n",
    "test_sample = 0.2\n",
    "train_num = int(len(unique_ids) * 0.7)\n",
    "val_num = int(len(unique_ids)*0.1) + train_num\n",
    "train_ids = unique_ids[:train_num]\n",
    "val_ids = unique_ids[train_num:val_num]\n",
    "test_ids = unique_ids[val_num:]"
   ]
  },
  {
   "cell_type": "code",
   "execution_count": 30,
   "id": "f99d6314-1634-4826-8f03-e3f80027a5ae",
   "metadata": {},
   "outputs": [],
   "source": [
    "train_set = DataFrame()\n",
    "train_set = disc_inp_data.loc[disc_inp_data['icustayid'].isin(train_ids)]\n",
    "\n",
    "val_set = DataFrame()\n",
    "val_set = disc_inp_data.loc[disc_inp_data['icustayid'].isin(val_ids)]\n",
    "\n",
    "test_set = DataFrame()\n",
    "test_set = disc_inp_data.loc[disc_inp_data['icustayid'].isin(test_ids)]"
   ]
  },
  {
   "cell_type": "code",
   "execution_count": 31,
   "id": "f34015e3-84ea-4261-96db-f6b8040438f1",
   "metadata": {},
   "outputs": [],
   "source": [
    "pregnant_set = pd.read_csv(\"D:/MIMICIII/Matlab/pregnant_data_nn.csv\")\n",
    "control_1_set = pd.read_csv(\"D:/MIMICIII/Matlab/control_1_data_nn.csv\")\n",
    "control_2_set = pd.read_csv(\"D:/MIMICIII/Matlab/control_2_data_nn.csv\")\n",
    "old_set = pd.read_csv(\"D:/MIMICIII/Matlab/old_data_nn.csv\")"
   ]
  },
  {
   "cell_type": "code",
   "execution_count": 32,
   "id": "6beb1831-3bd0-4343-b7c8-8603e1cf332a",
   "metadata": {},
   "outputs": [],
   "source": [
    "pregnant_ids = pregnant_set[\"icustayid\"]\n",
    "control_1_ids = control_1_set[\"icustayid\"]\n",
    "control_2_ids = control_2_set[\"icustayid\"]\n",
    "old_ids = old_set[\"icustayid\"]"
   ]
  },
  {
   "cell_type": "code",
   "execution_count": 33,
   "id": "6293d447-11c4-4848-bbbe-23ce839a97a0",
   "metadata": {},
   "outputs": [],
   "source": [
    "binary_fields = ['gender','mechvent','re_admission']\n",
    "norm_fields= ['age','Weight_kg','GCS','HR','SysBP','MeanBP','DiaBP','RR','Temp_C','FiO2_1',\n",
    "    'Potassium','Sodium','Chloride','Glucose','Magnesium','Calcium',\n",
    "    'Hb','WBC_count','Platelets_count','PTT','PT','Arterial_pH','paO2','paCO2',\n",
    "    'Arterial_BE','HCO3','Arterial_lactate','SOFA','SIRS','Shock_Index',\n",
    "    'PaO2_FiO2','cumulated_balance', 'elixhauser', 'Albumin', u'CO2_mEqL', 'Ionised_Ca']\n",
    "log_fields = ['max_dose_vaso','SpO2','BUN','Creatinine','SGOT','SGPT','Total_bili','INR',\n",
    "              'input_total','input_4hourly','output_total','output_4hourly', 'bloc']"
   ]
  },
  {
   "cell_type": "code",
   "execution_count": 34,
   "id": "b6705fec-9a35-43df-92d5-2554f649d6de",
   "metadata": {},
   "outputs": [
    {
     "name": "stderr",
     "output_type": "stream",
     "text": [
      "C:\\Users\\sianc\\anaconda3\\envs\\willthiswork\\lib\\site-packages\\pandas\\core\\frame.py:3069: SettingWithCopyWarning: \n",
      "A value is trying to be set on a copy of a slice from a DataFrame.\n",
      "Try using .loc[row_indexer,col_indexer] = value instead\n",
      "\n",
      "See the caveats in the documentation: https://pandas.pydata.org/pandas-docs/stable/user_guide/indexing.html#returning-a-view-versus-a-copy\n",
      "  self[k1] = value[k2]\n"
     ]
    }
   ],
   "source": [
    "train_set[binary_fields] = train_set[binary_fields] - 0.5 \n",
    "val_set[binary_fields] = val_set[binary_fields] - 0.5 \n",
    "test_set[binary_fields] = test_set[binary_fields] - 0.5\n",
    "pregnant_set[binary_fields] = pregnant_set[binary_fields] - 0.5\n",
    "control_1_set[binary_fields] = control_1_set[binary_fields] - 0.5\n",
    "control_2_set[binary_fields] = control_2_set[binary_fields] - 0.5\n",
    "old_set[binary_fields] = old_set[binary_fields] - 0.5"
   ]
  },
  {
   "cell_type": "code",
   "execution_count": 35,
   "id": "eb148044-a2d3-4e38-b08e-28dcf8a02d66",
   "metadata": {},
   "outputs": [
    {
     "name": "stderr",
     "output_type": "stream",
     "text": [
      "C:\\Users\\sianc\\anaconda3\\envs\\willthiswork\\lib\\site-packages\\ipykernel_launcher.py:7: SettingWithCopyWarning: \n",
      "A value is trying to be set on a copy of a slice from a DataFrame.\n",
      "Try using .loc[row_indexer,col_indexer] = value instead\n",
      "\n",
      "See the caveats in the documentation: https://pandas.pydata.org/pandas-docs/stable/user_guide/indexing.html#returning-a-view-versus-a-copy\n",
      "  import sys\n",
      "C:\\Users\\sianc\\anaconda3\\envs\\willthiswork\\lib\\site-packages\\ipykernel_launcher.py:8: SettingWithCopyWarning: \n",
      "A value is trying to be set on a copy of a slice from a DataFrame.\n",
      "Try using .loc[row_indexer,col_indexer] = value instead\n",
      "\n",
      "See the caveats in the documentation: https://pandas.pydata.org/pandas-docs/stable/user_guide/indexing.html#returning-a-view-versus-a-copy\n",
      "  \n",
      "C:\\Users\\sianc\\anaconda3\\envs\\willthiswork\\lib\\site-packages\\ipykernel_launcher.py:9: SettingWithCopyWarning: \n",
      "A value is trying to be set on a copy of a slice from a DataFrame.\n",
      "Try using .loc[row_indexer,col_indexer] = value instead\n",
      "\n",
      "See the caveats in the documentation: https://pandas.pydata.org/pandas-docs/stable/user_guide/indexing.html#returning-a-view-versus-a-copy\n",
      "  if __name__ == '__main__':\n"
     ]
    }
   ],
   "source": [
    "# normal distn fields\n",
    "for item in norm_fields:\n",
    "    av = train_set[item].mean()\n",
    "    #av = disc_inp_data[item].mean()\n",
    "    std = train_set[item].std()\n",
    "    #std = disc_inp_data[item].std()\n",
    "    train_set[item] = (train_set[item] - av) / std\n",
    "    val_set[item] = (val_set[item] - av) / std\n",
    "    test_set[item] = (test_set[item] - av) / std\n",
    "    pregnant_set[item] = (pregnant_set[item] - av) / std\n",
    "    control_1_set[item] = (control_1_set[item] - av) / std\n",
    "    control_2_set[item] = (control_2_set[item] - av) / std\n",
    "    old_set[item] = (old_set[item] -av)/std"
   ]
  },
  {
   "cell_type": "code",
   "execution_count": 36,
   "id": "d2bb7363-9229-47c3-9ed4-da1a3c814629",
   "metadata": {},
   "outputs": [
    {
     "name": "stderr",
     "output_type": "stream",
     "text": [
      "C:\\Users\\sianc\\anaconda3\\envs\\willthiswork\\lib\\site-packages\\ipykernel_launcher.py:14: SettingWithCopyWarning: \n",
      "A value is trying to be set on a copy of a slice from a DataFrame.\n",
      "Try using .loc[row_indexer,col_indexer] = value instead\n",
      "\n",
      "See the caveats in the documentation: https://pandas.pydata.org/pandas-docs/stable/user_guide/indexing.html#returning-a-view-versus-a-copy\n",
      "  \n",
      "C:\\Users\\sianc\\anaconda3\\envs\\willthiswork\\lib\\site-packages\\ipykernel_launcher.py:15: SettingWithCopyWarning: \n",
      "A value is trying to be set on a copy of a slice from a DataFrame.\n",
      "Try using .loc[row_indexer,col_indexer] = value instead\n",
      "\n",
      "See the caveats in the documentation: https://pandas.pydata.org/pandas-docs/stable/user_guide/indexing.html#returning-a-view-versus-a-copy\n",
      "  from ipykernel import kernelapp as app\n",
      "C:\\Users\\sianc\\anaconda3\\envs\\willthiswork\\lib\\site-packages\\ipykernel_launcher.py:16: SettingWithCopyWarning: \n",
      "A value is trying to be set on a copy of a slice from a DataFrame.\n",
      "Try using .loc[row_indexer,col_indexer] = value instead\n",
      "\n",
      "See the caveats in the documentation: https://pandas.pydata.org/pandas-docs/stable/user_guide/indexing.html#returning-a-view-versus-a-copy\n",
      "  app.launch_new_instance()\n"
     ]
    }
   ],
   "source": [
    "# log normal fields\n",
    "train_set[log_fields] = np.log(0.1 + train_set[log_fields])\n",
    "val_set[log_fields] = np.log(0.1 + val_set[log_fields])\n",
    "test_set[log_fields] = np.log(0.1 + test_set[log_fields])\n",
    "pregnant_set[log_fields] = np.log(0.1 + pregnant_set[log_fields])\n",
    "control_1_set[log_fields] = np.log(0.1 + control_1_set[log_fields])\n",
    "control_2_set[log_fields] = np.log(0.1 + control_2_set[log_fields])\n",
    "old_set[log_fields] = np.log(0.1 + old_set[log_fields])\n",
    "for item in log_fields:\n",
    "    av = train_set[item].mean()\n",
    "    #av = disc_inp_data[item].mean()\n",
    "    std = train_set[item].std()\n",
    "    #std = disc_inp_data[item].std()\n",
    "    train_set[item] = (train_set[item] - av) / std\n",
    "    val_set[item] = (val_set[item] - av) / std\n",
    "    test_set[item] = (test_set[item] - av) / std\n",
    "    pregnant_set[item] = (pregnant_set[item] - av) / std\n",
    "    control_1_set[item] = (control_1_set[item] - av) / std\n",
    "    control_2_set[item] = (control_2_set[item] - av) / std\n",
    "    old_set[item] = (old_set[item] -av)/std"
   ]
  },
  {
   "cell_type": "code",
   "execution_count": 37,
   "id": "8f204f4e-3a24-4bf3-a901-c3ed7e43a270",
   "metadata": {},
   "outputs": [],
   "source": [
    "train_set.to_csv('D:/MIMICIII/Created Data/Fresh_start/rl_train_set_unscaled_rewarded.csv',index = False)\n",
    "val_set.to_csv('D:/MIMICIII/Created Data/Fresh_start/rl_val_set_unscaled_rewarded.csv', index = False)\n",
    "test_set.to_csv('D:/MIMICIII/Created Data/Fresh_start/rl_test_set_unscaled_rewarded.csv', index = False)\n",
    "pregnant_set.to_csv('D:/MIMICIII/Created Data/Fresh_start/rl_pregnant_set_unscaled_rewarded.csv', index = False)\n",
    "control_1_set.to_csv('D:/MIMICIII/Created Data/Fresh_start/rl_control_1_set_unscaled_rewarded.csv', index = False)\n",
    "control_2_set.to_csv('D:/MIMICIII/Created Data/Fresh_start/rl_control_2_set_unscaled_rewarded.csv', index = False)\n",
    "old_set.to_csv('D:/MIMICIII/Created Data/Fresh_start/rl_old_set_unscaled_rewarded.csv', index = False)"
   ]
  },
  {
   "cell_type": "code",
   "execution_count": 38,
   "id": "c9f1f003-81e8-4dd3-81ce-c1c0a7656b18",
   "metadata": {},
   "outputs": [
    {
     "name": "stderr",
     "output_type": "stream",
     "text": [
      "C:\\Users\\sianc\\anaconda3\\envs\\willthiswork\\lib\\site-packages\\ipykernel_launcher.py:11: SettingWithCopyWarning: \n",
      "A value is trying to be set on a copy of a slice from a DataFrame.\n",
      "Try using .loc[row_indexer,col_indexer] = value instead\n",
      "\n",
      "See the caveats in the documentation: https://pandas.pydata.org/pandas-docs/stable/user_guide/indexing.html#returning-a-view-versus-a-copy\n",
      "  # This is added back by InteractiveShellApp.init_path()\n",
      "C:\\Users\\sianc\\anaconda3\\envs\\willthiswork\\lib\\site-packages\\ipykernel_launcher.py:12: SettingWithCopyWarning: \n",
      "A value is trying to be set on a copy of a slice from a DataFrame.\n",
      "Try using .loc[row_indexer,col_indexer] = value instead\n",
      "\n",
      "See the caveats in the documentation: https://pandas.pydata.org/pandas-docs/stable/user_guide/indexing.html#returning-a-view-versus-a-copy\n",
      "  if sys.path[0] == '':\n",
      "C:\\Users\\sianc\\anaconda3\\envs\\willthiswork\\lib\\site-packages\\ipykernel_launcher.py:13: SettingWithCopyWarning: \n",
      "A value is trying to be set on a copy of a slice from a DataFrame.\n",
      "Try using .loc[row_indexer,col_indexer] = value instead\n",
      "\n",
      "See the caveats in the documentation: https://pandas.pydata.org/pandas-docs/stable/user_guide/indexing.html#returning-a-view-versus-a-copy\n",
      "  del sys.path[0]\n"
     ]
    }
   ],
   "source": [
    "# scale features to [0,1] in train set, similar in val and test\n",
    "import copy\n",
    "scalable_fields = copy.deepcopy(binary_fields)\n",
    "scalable_fields.extend(norm_fields)\n",
    "scalable_fields.extend(log_fields)\n",
    "for col in scalable_fields:\n",
    "    minimum = min(train_set[col])\n",
    "    #minimum = min(disc_inp_data[col])\n",
    "    maximum = max(train_set[col])\n",
    "    #maximum = max(disc_inp_data[col])\n",
    "    train_set[col] = (train_set[col] - minimum)/(maximum-minimum)\n",
    "    val_set[col] = (val_set[col] - minimum)/(maximum-minimum)\n",
    "    test_set[col] = (test_set[col] - minimum)/(maximum-minimum)\n",
    "    pregnant_set[col] = (pregnant_set[col] - minimum)/(maximum-minimum)\n",
    "    control_1_set[col] = (control_1_set[col] - minimum)/(maximum-minimum)\n",
    "    control_2_set[col] = (control_2_set[col] - minimum)/(maximum-minimum)\n",
    "    old_set[col] = (old_set[col] - minimum)/(maximum-minimum)"
   ]
  },
  {
   "cell_type": "code",
   "execution_count": 39,
   "id": "6b7bb74e-5bd6-441c-ba14-0b7ecec0ede6",
   "metadata": {},
   "outputs": [],
   "source": [
    "train_set.to_csv('D:/MIMICIII/Created Data/Fresh_start/rl_train_set_scaled_rewarded.csv',index = False)\n",
    "val_set.to_csv('D:/MIMICIII/Created Data/Fresh_start/rl_val_set_scaled_rewarded.csv', index = False)\n",
    "test_set.to_csv('D:/MIMICIII/Created Data/Fresh_start/rl_test_set_scaled_rewarded.csv', index = False)\n",
    "pregnant_set.to_csv('D:/MIMICIII/Created Data/Fresh_start/rl_pregnant_set_scaled_rewarded.csv', index = False)\n",
    "control_1_set.to_csv('D:/MIMICIII/Created Data/Fresh_start/rl_control_1_set_scaled_rewarded.csv', index = False)\n",
    "control_2_set.to_csv('D:/MIMICIII/Created Data/Fresh_start/rl_control_2_set_scaled_rewarded.csv', index = False)\n",
    "old_set.to_csv('D:/MIMICIII/Created Data/Fresh_start/rl_old_set_scaled_rewarded.csv', index = False)"
   ]
  },
  {
   "cell_type": "code",
   "execution_count": 40,
   "id": "6d600c27-812e-4b33-b987-60e6763faaf9",
   "metadata": {},
   "outputs": [
    {
     "data": {
      "text/html": [
       "<div>\n",
       "<style scoped>\n",
       "    .dataframe tbody tr th:only-of-type {\n",
       "        vertical-align: middle;\n",
       "    }\n",
       "\n",
       "    .dataframe tbody tr th {\n",
       "        vertical-align: top;\n",
       "    }\n",
       "\n",
       "    .dataframe thead th {\n",
       "        text-align: right;\n",
       "    }\n",
       "</style>\n",
       "<table border=\"1\" class=\"dataframe\">\n",
       "  <thead>\n",
       "    <tr style=\"text-align: right;\">\n",
       "      <th></th>\n",
       "      <th>bloc</th>\n",
       "      <th>icustayid</th>\n",
       "      <th>charttime</th>\n",
       "      <th>gender</th>\n",
       "      <th>age</th>\n",
       "      <th>elixhauser</th>\n",
       "      <th>re_admission</th>\n",
       "      <th>died_in_hosp</th>\n",
       "      <th>died_within_48h_of_out_time</th>\n",
       "      <th>mortality_90d</th>\n",
       "      <th>...</th>\n",
       "      <th>input_4hourly</th>\n",
       "      <th>output_total</th>\n",
       "      <th>output_4hourly</th>\n",
       "      <th>cumulated_balance</th>\n",
       "      <th>SOFA</th>\n",
       "      <th>SIRS</th>\n",
       "      <th>vaso_input</th>\n",
       "      <th>iv_input</th>\n",
       "      <th>action</th>\n",
       "      <th>reward</th>\n",
       "    </tr>\n",
       "  </thead>\n",
       "  <tbody>\n",
       "    <tr>\n",
       "      <th>0</th>\n",
       "      <td>0.000000</td>\n",
       "      <td>3</td>\n",
       "      <td>7245486000</td>\n",
       "      <td>0.0</td>\n",
       "      <td>0.412268</td>\n",
       "      <td>0.0</td>\n",
       "      <td>0.0</td>\n",
       "      <td>0.0</td>\n",
       "      <td>NaN</td>\n",
       "      <td>1.0</td>\n",
       "      <td>...</td>\n",
       "      <td>0.508562</td>\n",
       "      <td>0.787595</td>\n",
       "      <td>0.728838</td>\n",
       "      <td>0.382109</td>\n",
       "      <td>0.26087</td>\n",
       "      <td>0.50</td>\n",
       "      <td>0.0</td>\n",
       "      <td>2.0</td>\n",
       "      <td>10</td>\n",
       "      <td>1.303074</td>\n",
       "    </tr>\n",
       "    <tr>\n",
       "      <th>1</th>\n",
       "      <td>0.222560</td>\n",
       "      <td>3</td>\n",
       "      <td>7245500400</td>\n",
       "      <td>0.0</td>\n",
       "      <td>0.412268</td>\n",
       "      <td>0.0</td>\n",
       "      <td>0.0</td>\n",
       "      <td>0.0</td>\n",
       "      <td>NaN</td>\n",
       "      <td>1.0</td>\n",
       "      <td>...</td>\n",
       "      <td>0.508562</td>\n",
       "      <td>0.789357</td>\n",
       "      <td>0.698697</td>\n",
       "      <td>0.381732</td>\n",
       "      <td>0.26087</td>\n",
       "      <td>0.50</td>\n",
       "      <td>0.0</td>\n",
       "      <td>2.0</td>\n",
       "      <td>10</td>\n",
       "      <td>-0.025000</td>\n",
       "    </tr>\n",
       "    <tr>\n",
       "      <th>2</th>\n",
       "      <td>0.356608</td>\n",
       "      <td>3</td>\n",
       "      <td>7245514800</td>\n",
       "      <td>0.0</td>\n",
       "      <td>0.412268</td>\n",
       "      <td>0.0</td>\n",
       "      <td>0.0</td>\n",
       "      <td>0.0</td>\n",
       "      <td>NaN</td>\n",
       "      <td>1.0</td>\n",
       "      <td>...</td>\n",
       "      <td>0.508562</td>\n",
       "      <td>0.790678</td>\n",
       "      <td>0.676123</td>\n",
       "      <td>0.381457</td>\n",
       "      <td>0.26087</td>\n",
       "      <td>0.50</td>\n",
       "      <td>0.0</td>\n",
       "      <td>2.0</td>\n",
       "      <td>10</td>\n",
       "      <td>-0.025000</td>\n",
       "    </tr>\n",
       "    <tr>\n",
       "      <th>3</th>\n",
       "      <td>0.452837</td>\n",
       "      <td>3</td>\n",
       "      <td>7245529200</td>\n",
       "      <td>0.0</td>\n",
       "      <td>0.412268</td>\n",
       "      <td>0.0</td>\n",
       "      <td>0.0</td>\n",
       "      <td>0.0</td>\n",
       "      <td>NaN</td>\n",
       "      <td>1.0</td>\n",
       "      <td>...</td>\n",
       "      <td>0.508562</td>\n",
       "      <td>0.792248</td>\n",
       "      <td>0.692656</td>\n",
       "      <td>0.381110</td>\n",
       "      <td>0.26087</td>\n",
       "      <td>0.25</td>\n",
       "      <td>0.0</td>\n",
       "      <td>2.0</td>\n",
       "      <td>10</td>\n",
       "      <td>-0.025000</td>\n",
       "    </tr>\n",
       "    <tr>\n",
       "      <th>4</th>\n",
       "      <td>0.527957</td>\n",
       "      <td>3</td>\n",
       "      <td>7245543600</td>\n",
       "      <td>0.0</td>\n",
       "      <td>0.412268</td>\n",
       "      <td>0.0</td>\n",
       "      <td>0.0</td>\n",
       "      <td>0.0</td>\n",
       "      <td>NaN</td>\n",
       "      <td>1.0</td>\n",
       "      <td>...</td>\n",
       "      <td>0.508562</td>\n",
       "      <td>0.794667</td>\n",
       "      <td>0.732052</td>\n",
       "      <td>0.380524</td>\n",
       "      <td>0.26087</td>\n",
       "      <td>0.50</td>\n",
       "      <td>0.0</td>\n",
       "      <td>2.0</td>\n",
       "      <td>10</td>\n",
       "      <td>-0.025000</td>\n",
       "    </tr>\n",
       "  </tbody>\n",
       "</table>\n",
       "<p>5 rows × 63 columns</p>\n",
       "</div>"
      ],
      "text/plain": [
       "       bloc  icustayid   charttime  gender       age  elixhauser  \\\n",
       "0  0.000000          3  7245486000     0.0  0.412268         0.0   \n",
       "1  0.222560          3  7245500400     0.0  0.412268         0.0   \n",
       "2  0.356608          3  7245514800     0.0  0.412268         0.0   \n",
       "3  0.452837          3  7245529200     0.0  0.412268         0.0   \n",
       "4  0.527957          3  7245543600     0.0  0.412268         0.0   \n",
       "\n",
       "   re_admission  died_in_hosp  died_within_48h_of_out_time  mortality_90d  \\\n",
       "0           0.0           0.0                          NaN            1.0   \n",
       "1           0.0           0.0                          NaN            1.0   \n",
       "2           0.0           0.0                          NaN            1.0   \n",
       "3           0.0           0.0                          NaN            1.0   \n",
       "4           0.0           0.0                          NaN            1.0   \n",
       "\n",
       "   ...  input_4hourly  output_total  output_4hourly  cumulated_balance  \\\n",
       "0  ...       0.508562      0.787595        0.728838           0.382109   \n",
       "1  ...       0.508562      0.789357        0.698697           0.381732   \n",
       "2  ...       0.508562      0.790678        0.676123           0.381457   \n",
       "3  ...       0.508562      0.792248        0.692656           0.381110   \n",
       "4  ...       0.508562      0.794667        0.732052           0.380524   \n",
       "\n",
       "      SOFA  SIRS  vaso_input  iv_input  action    reward  \n",
       "0  0.26087  0.50         0.0       2.0      10  1.303074  \n",
       "1  0.26087  0.50         0.0       2.0      10 -0.025000  \n",
       "2  0.26087  0.50         0.0       2.0      10 -0.025000  \n",
       "3  0.26087  0.25         0.0       2.0      10 -0.025000  \n",
       "4  0.26087  0.50         0.0       2.0      10 -0.025000  \n",
       "\n",
       "[5 rows x 63 columns]"
      ]
     },
     "execution_count": 40,
     "metadata": {},
     "output_type": "execute_result"
    }
   ],
   "source": [
    "train_set.head()"
   ]
  },
  {
   "cell_type": "code",
   "execution_count": 41,
   "id": "8639bd99-ff22-4df7-84bb-b5fca1787be4",
   "metadata": {},
   "outputs": [
    {
     "name": "stderr",
     "output_type": "stream",
     "text": [
      "C:\\Users\\sianc\\anaconda3\\envs\\willthiswork\\lib\\site-packages\\ipykernel_launcher.py:1: SettingWithCopyWarning: \n",
      "A value is trying to be set on a copy of a slice from a DataFrame.\n",
      "Try using .loc[row_indexer,col_indexer] = value instead\n",
      "\n",
      "See the caveats in the documentation: https://pandas.pydata.org/pandas-docs/stable/user_guide/indexing.html#returning-a-view-versus-a-copy\n",
      "  \"\"\"Entry point for launching an IPython kernel.\n"
     ]
    }
   ],
   "source": [
    "train_set[\"max_dose_vaso_unnorm\"] = disc_inp_data[\"max_dose_vaso\"].loc[disc_inp_data['icustayid'].isin(train_ids)]"
   ]
  },
  {
   "cell_type": "code",
   "execution_count": 42,
   "id": "c4e86301-5acd-477c-b299-3064ec0729d1",
   "metadata": {},
   "outputs": [
    {
     "name": "stderr",
     "output_type": "stream",
     "text": [
      "C:\\Users\\sianc\\anaconda3\\envs\\willthiswork\\lib\\site-packages\\ipykernel_launcher.py:1: SettingWithCopyWarning: \n",
      "A value is trying to be set on a copy of a slice from a DataFrame.\n",
      "Try using .loc[row_indexer,col_indexer] = value instead\n",
      "\n",
      "See the caveats in the documentation: https://pandas.pydata.org/pandas-docs/stable/user_guide/indexing.html#returning-a-view-versus-a-copy\n",
      "  \"\"\"Entry point for launching an IPython kernel.\n",
      "C:\\Users\\sianc\\anaconda3\\envs\\willthiswork\\lib\\site-packages\\ipykernel_launcher.py:2: SettingWithCopyWarning: \n",
      "A value is trying to be set on a copy of a slice from a DataFrame.\n",
      "Try using .loc[row_indexer,col_indexer] = value instead\n",
      "\n",
      "See the caveats in the documentation: https://pandas.pydata.org/pandas-docs/stable/user_guide/indexing.html#returning-a-view-versus-a-copy\n",
      "  \n"
     ]
    }
   ],
   "source": [
    "val_set[\"max_dose_vaso_unnorm\"] = disc_inp_data[\"max_dose_vaso\"].loc[disc_inp_data['icustayid'].isin(val_ids)]\n",
    "test_set[\"max_dose_vaso_unnorm\"] = disc_inp_data[\"max_dose_vaso\"].loc[disc_inp_data['icustayid'].isin(test_ids)]\n",
    "pregnant_set[\"max_dose_vaso_unnorm\"] = disc_inp_data[\"max_dose_vaso\"].loc[disc_inp_data['icustayid'].isin(pregnant_ids)].reset_index()[\"max_dose_vaso\"]\n",
    "control_1_set[\"max_dose_vaso_unnorm\"] = disc_inp_data[\"max_dose_vaso\"].loc[disc_inp_data['icustayid'].isin(control_1_ids)].reset_index()[\"max_dose_vaso\"]\n",
    "control_2_set[\"max_dose_vaso_unnorm\"] = disc_inp_data[\"max_dose_vaso\"].loc[disc_inp_data['icustayid'].isin(control_2_ids)].reset_index()[\"max_dose_vaso\"]\n",
    "old_set[\"max_dose_vaso_unnorm\"] = disc_inp_data[\"max_dose_vaso\"].loc[disc_inp_data['icustayid'].isin(old_ids)].reset_index()[\"max_dose_vaso\"]"
   ]
  },
  {
   "cell_type": "code",
   "execution_count": 43,
   "id": "57d93e71-954f-41c4-aa8f-eb3c95a15f01",
   "metadata": {},
   "outputs": [],
   "source": [
    "#train_set = pd.read_csv('D:/MIMICIII/Created Data/rl_train_set_scaled_rewarded.csv')"
   ]
  },
  {
   "cell_type": "code",
   "execution_count": 44,
   "id": "65d90b56-16f0-4440-b0b6-e65bbec3e358",
   "metadata": {},
   "outputs": [],
   "source": [
    "def add_abchange_vc(df):\n",
    "    abchange_vc_list = [0]\n",
    "    for i, row in df.iterrows():\n",
    "        if i == 0:\n",
    "            prev_vc = row[\"max_dose_vaso_unnorm\"]\n",
    "        else:\n",
    "            #print(\"eyyy\")\n",
    "            abchange_vc = row[\"max_dose_vaso_unnorm\"] - prev_vc\n",
    "            abchange_vc_list.append(abchange_vc)\n",
    "            prev_vc = row[\"max_dose_vaso_unnorm\"]\n",
    "            #if i == 100:\n",
    "                #break\n",
    "    df.head()\n",
    "    df[\"abchange_vc\"] = abchange_vc_list\n",
    "    return df"
   ]
  },
  {
   "cell_type": "code",
   "execution_count": 45,
   "id": "83ecda4a-3eda-41d8-bbd2-54df84d45781",
   "metadata": {},
   "outputs": [
    {
     "data": {
      "text/html": [
       "<div>\n",
       "<style scoped>\n",
       "    .dataframe tbody tr th:only-of-type {\n",
       "        vertical-align: middle;\n",
       "    }\n",
       "\n",
       "    .dataframe tbody tr th {\n",
       "        vertical-align: top;\n",
       "    }\n",
       "\n",
       "    .dataframe thead th {\n",
       "        text-align: right;\n",
       "    }\n",
       "</style>\n",
       "<table border=\"1\" class=\"dataframe\">\n",
       "  <thead>\n",
       "    <tr style=\"text-align: right;\">\n",
       "      <th></th>\n",
       "      <th>index</th>\n",
       "      <th>bloc</th>\n",
       "      <th>icustayid</th>\n",
       "      <th>charttime</th>\n",
       "      <th>gender</th>\n",
       "      <th>age</th>\n",
       "      <th>elixhauser</th>\n",
       "      <th>re_admission</th>\n",
       "      <th>died_in_hosp</th>\n",
       "      <th>died_within_48h_of_out_time</th>\n",
       "      <th>...</th>\n",
       "      <th>output_4hourly</th>\n",
       "      <th>cumulated_balance</th>\n",
       "      <th>SOFA</th>\n",
       "      <th>SIRS</th>\n",
       "      <th>vaso_input</th>\n",
       "      <th>iv_input</th>\n",
       "      <th>action</th>\n",
       "      <th>reward</th>\n",
       "      <th>max_dose_vaso_unnorm</th>\n",
       "      <th>abchange_vc</th>\n",
       "    </tr>\n",
       "  </thead>\n",
       "  <tbody>\n",
       "    <tr>\n",
       "      <th>0</th>\n",
       "      <td>0</td>\n",
       "      <td>0.000000</td>\n",
       "      <td>3</td>\n",
       "      <td>7245486000</td>\n",
       "      <td>0.0</td>\n",
       "      <td>0.412268</td>\n",
       "      <td>0.0</td>\n",
       "      <td>0.0</td>\n",
       "      <td>0.0</td>\n",
       "      <td>NaN</td>\n",
       "      <td>...</td>\n",
       "      <td>0.728838</td>\n",
       "      <td>0.382109</td>\n",
       "      <td>0.26087</td>\n",
       "      <td>0.50</td>\n",
       "      <td>0.0</td>\n",
       "      <td>2.0</td>\n",
       "      <td>10</td>\n",
       "      <td>1.303074</td>\n",
       "      <td>0.0</td>\n",
       "      <td>0.0</td>\n",
       "    </tr>\n",
       "    <tr>\n",
       "      <th>1</th>\n",
       "      <td>1</td>\n",
       "      <td>0.222560</td>\n",
       "      <td>3</td>\n",
       "      <td>7245500400</td>\n",
       "      <td>0.0</td>\n",
       "      <td>0.412268</td>\n",
       "      <td>0.0</td>\n",
       "      <td>0.0</td>\n",
       "      <td>0.0</td>\n",
       "      <td>NaN</td>\n",
       "      <td>...</td>\n",
       "      <td>0.698697</td>\n",
       "      <td>0.381732</td>\n",
       "      <td>0.26087</td>\n",
       "      <td>0.50</td>\n",
       "      <td>0.0</td>\n",
       "      <td>2.0</td>\n",
       "      <td>10</td>\n",
       "      <td>-0.025000</td>\n",
       "      <td>0.0</td>\n",
       "      <td>0.0</td>\n",
       "    </tr>\n",
       "    <tr>\n",
       "      <th>2</th>\n",
       "      <td>2</td>\n",
       "      <td>0.356608</td>\n",
       "      <td>3</td>\n",
       "      <td>7245514800</td>\n",
       "      <td>0.0</td>\n",
       "      <td>0.412268</td>\n",
       "      <td>0.0</td>\n",
       "      <td>0.0</td>\n",
       "      <td>0.0</td>\n",
       "      <td>NaN</td>\n",
       "      <td>...</td>\n",
       "      <td>0.676123</td>\n",
       "      <td>0.381457</td>\n",
       "      <td>0.26087</td>\n",
       "      <td>0.50</td>\n",
       "      <td>0.0</td>\n",
       "      <td>2.0</td>\n",
       "      <td>10</td>\n",
       "      <td>-0.025000</td>\n",
       "      <td>0.0</td>\n",
       "      <td>0.0</td>\n",
       "    </tr>\n",
       "    <tr>\n",
       "      <th>3</th>\n",
       "      <td>3</td>\n",
       "      <td>0.452837</td>\n",
       "      <td>3</td>\n",
       "      <td>7245529200</td>\n",
       "      <td>0.0</td>\n",
       "      <td>0.412268</td>\n",
       "      <td>0.0</td>\n",
       "      <td>0.0</td>\n",
       "      <td>0.0</td>\n",
       "      <td>NaN</td>\n",
       "      <td>...</td>\n",
       "      <td>0.692656</td>\n",
       "      <td>0.381110</td>\n",
       "      <td>0.26087</td>\n",
       "      <td>0.25</td>\n",
       "      <td>0.0</td>\n",
       "      <td>2.0</td>\n",
       "      <td>10</td>\n",
       "      <td>-0.025000</td>\n",
       "      <td>0.0</td>\n",
       "      <td>0.0</td>\n",
       "    </tr>\n",
       "    <tr>\n",
       "      <th>4</th>\n",
       "      <td>4</td>\n",
       "      <td>0.527957</td>\n",
       "      <td>3</td>\n",
       "      <td>7245543600</td>\n",
       "      <td>0.0</td>\n",
       "      <td>0.412268</td>\n",
       "      <td>0.0</td>\n",
       "      <td>0.0</td>\n",
       "      <td>0.0</td>\n",
       "      <td>NaN</td>\n",
       "      <td>...</td>\n",
       "      <td>0.732052</td>\n",
       "      <td>0.380524</td>\n",
       "      <td>0.26087</td>\n",
       "      <td>0.50</td>\n",
       "      <td>0.0</td>\n",
       "      <td>2.0</td>\n",
       "      <td>10</td>\n",
       "      <td>-0.025000</td>\n",
       "      <td>0.0</td>\n",
       "      <td>0.0</td>\n",
       "    </tr>\n",
       "  </tbody>\n",
       "</table>\n",
       "<p>5 rows × 66 columns</p>\n",
       "</div>"
      ],
      "text/plain": [
       "   index      bloc  icustayid   charttime  gender       age  elixhauser  \\\n",
       "0      0  0.000000          3  7245486000     0.0  0.412268         0.0   \n",
       "1      1  0.222560          3  7245500400     0.0  0.412268         0.0   \n",
       "2      2  0.356608          3  7245514800     0.0  0.412268         0.0   \n",
       "3      3  0.452837          3  7245529200     0.0  0.412268         0.0   \n",
       "4      4  0.527957          3  7245543600     0.0  0.412268         0.0   \n",
       "\n",
       "   re_admission  died_in_hosp  died_within_48h_of_out_time  ...  \\\n",
       "0           0.0           0.0                          NaN  ...   \n",
       "1           0.0           0.0                          NaN  ...   \n",
       "2           0.0           0.0                          NaN  ...   \n",
       "3           0.0           0.0                          NaN  ...   \n",
       "4           0.0           0.0                          NaN  ...   \n",
       "\n",
       "   output_4hourly  cumulated_balance     SOFA  SIRS  vaso_input  iv_input  \\\n",
       "0        0.728838           0.382109  0.26087  0.50         0.0       2.0   \n",
       "1        0.698697           0.381732  0.26087  0.50         0.0       2.0   \n",
       "2        0.676123           0.381457  0.26087  0.50         0.0       2.0   \n",
       "3        0.692656           0.381110  0.26087  0.25         0.0       2.0   \n",
       "4        0.732052           0.380524  0.26087  0.50         0.0       2.0   \n",
       "\n",
       "   action    reward  max_dose_vaso_unnorm  abchange_vc  \n",
       "0      10  1.303074                   0.0          0.0  \n",
       "1      10 -0.025000                   0.0          0.0  \n",
       "2      10 -0.025000                   0.0          0.0  \n",
       "3      10 -0.025000                   0.0          0.0  \n",
       "4      10 -0.025000                   0.0          0.0  \n",
       "\n",
       "[5 rows x 66 columns]"
      ]
     },
     "execution_count": 45,
     "metadata": {},
     "output_type": "execute_result"
    }
   ],
   "source": [
    "train_set = train_set.reset_index()\n",
    "train_set = add_abchange_vc(train_set)\n",
    "train_set.head()"
   ]
  },
  {
   "cell_type": "code",
   "execution_count": 46,
   "id": "66d0823e-5f91-47ad-b838-8093f80cda00",
   "metadata": {},
   "outputs": [],
   "source": [
    "test_set = test_set.reset_index()\n",
    "val_set = val_set.reset_index()\n",
    "test_set = add_abchange_vc(test_set)\n",
    "val_set = add_abchange_vc(val_set)\n",
    "pregnant_set = pregnant_set.reset_index()\n",
    "pregnant_set = add_abchange_vc(pregnant_set)\n",
    "control_1_set = control_1_set.reset_index()\n",
    "control_1_set = add_abchange_vc(control_1_set)\n",
    "control_2_set = control_2_set.reset_index()\n",
    "control_2_set = add_abchange_vc(control_2_set)\n",
    "old_set = old_set.reset_index()\n",
    "old_set = add_abchange_vc(old_set)"
   ]
  },
  {
   "cell_type": "code",
   "execution_count": 47,
   "id": "a3ba04b1-8744-4adf-924e-bd9bc8d3e78f",
   "metadata": {},
   "outputs": [],
   "source": [
    "train_set.to_csv('D:/MIMICIII/Created Data/Fresh_start/rl_train_set_scaled_rewarded_abchange.csv',index = False)\n",
    "val_set.to_csv('D:/MIMICIII/Created Data/Fresh_start/rl_val_set_scaled_rewarded_abchange.csv', index = False)\n",
    "test_set.to_csv('D:/MIMICIII/Created Data/Fresh_start/rl_test_set_scaled_rewarded_abchange.csv', index = False)\n",
    "pregnant_set.to_csv('D:/MIMICIII/Created Data/Fresh_start/rl_pregnant_set_scaled_rewarded_abchange.csv', index = False)\n",
    "control_1_set.to_csv('D:/MIMICIII/Created Data/Fresh_start/rl_control_1_set_scaled_rewarded_abchange.csv', index = False)\n",
    "control_2_set.to_csv('D:/MIMICIII/Created Data/Fresh_start/rl_control_2_set_scaled_rewarded_abchange.csv', index = False)\n",
    "old_set.to_csv('D:/MIMICIII/Created Data/Fresh_start/rl_old_set_scaled_rewarded_abchange.csv', index = False)"
   ]
  },
  {
   "cell_type": "code",
   "execution_count": null,
   "id": "6b2b3cfb-9e2b-497c-b392-1c58244f7343",
   "metadata": {},
   "outputs": [],
   "source": []
  },
  {
   "cell_type": "code",
   "execution_count": 48,
   "id": "67b74a80-1c84-4a62-8556-f0b9574b0694",
   "metadata": {},
   "outputs": [
    {
     "data": {
      "text/plain": [
       "0         0.0\n",
       "1         0.0\n",
       "2         0.0\n",
       "3         0.0\n",
       "4         0.0\n",
       "         ... \n",
       "195416    0.0\n",
       "195417    0.0\n",
       "195418    0.0\n",
       "195419    0.0\n",
       "195420    0.0\n",
       "Name: abchange_vc, Length: 195421, dtype: float64"
      ]
     },
     "execution_count": 48,
     "metadata": {},
     "output_type": "execute_result"
    }
   ],
   "source": [
    "train_set[\"abchange_vc\"]"
   ]
  },
  {
   "cell_type": "code",
   "execution_count": 49,
   "id": "c5467738-8c5c-4e58-99b0-718e29fe8301",
   "metadata": {},
   "outputs": [
    {
     "data": {
      "text/plain": [
       "0      0.0\n",
       "1      0.0\n",
       "2      0.0\n",
       "3      0.0\n",
       "4      0.0\n",
       "      ... \n",
       "971    0.0\n",
       "972    0.0\n",
       "973    0.0\n",
       "974    0.0\n",
       "975    0.0\n",
       "Name: abchange_vc, Length: 976, dtype: float64"
      ]
     },
     "execution_count": 49,
     "metadata": {},
     "output_type": "execute_result"
    }
   ],
   "source": [
    "pregnant_set[\"abchange_vc\"]"
   ]
  },
  {
   "cell_type": "code",
   "execution_count": 50,
   "id": "f16f323c-7e33-4da4-a75d-19b1ab6f4128",
   "metadata": {},
   "outputs": [
    {
     "data": {
      "text/plain": [
       "0       0.0\n",
       "1       0.0\n",
       "2       0.0\n",
       "3       0.0\n",
       "4       0.0\n",
       "       ... \n",
       "3960    0.0\n",
       "3961   -0.1\n",
       "3962    0.0\n",
       "3963   -0.2\n",
       "3964   -0.2\n",
       "Name: abchange_vc, Length: 3965, dtype: float64"
      ]
     },
     "execution_count": 50,
     "metadata": {},
     "output_type": "execute_result"
    }
   ],
   "source": [
    "control_1_set[\"abchange_vc\"]"
   ]
  },
  {
   "cell_type": "code",
   "execution_count": 51,
   "id": "2b3e7a29-f2ba-4b27-a148-c2594976e0a7",
   "metadata": {},
   "outputs": [
    {
     "data": {
      "text/plain": [
       "0       0.0\n",
       "1       0.0\n",
       "2       0.0\n",
       "3       0.0\n",
       "4       0.0\n",
       "       ... \n",
       "4573    0.0\n",
       "4574    0.0\n",
       "4575    0.0\n",
       "4576    0.0\n",
       "4577    0.0\n",
       "Name: abchange_vc, Length: 4578, dtype: float64"
      ]
     },
     "execution_count": 51,
     "metadata": {},
     "output_type": "execute_result"
    }
   ],
   "source": [
    "control_2_set[\"abchange_vc\"]"
   ]
  },
  {
   "cell_type": "code",
   "execution_count": 52,
   "id": "afa05532-45e9-4987-a5dd-8559a9845eb9",
   "metadata": {},
   "outputs": [
    {
     "data": {
      "text/plain": [
       "0         0.000\n",
       "1         0.000\n",
       "2         0.000\n",
       "3         0.000\n",
       "4         0.000\n",
       "          ...  \n",
       "110402    0.000\n",
       "110403    0.000\n",
       "110404    0.000\n",
       "110405    0.000\n",
       "110406    0.112\n",
       "Name: abchange_vc, Length: 110407, dtype: float64"
      ]
     },
     "execution_count": 52,
     "metadata": {},
     "output_type": "execute_result"
    }
   ],
   "source": [
    "old_set[\"abchange_vc\"]"
   ]
  },
  {
   "cell_type": "code",
   "execution_count": null,
   "id": "6529145d-b309-4f29-aae1-0c4c6ca45994",
   "metadata": {},
   "outputs": [],
   "source": []
  }
 ],
 "metadata": {
  "kernelspec": {
   "display_name": "Python 3",
   "language": "python",
   "name": "python3"
  },
  "language_info": {
   "codemirror_mode": {
    "name": "ipython",
    "version": 3
   },
   "file_extension": ".py",
   "mimetype": "text/x-python",
   "name": "python",
   "nbconvert_exporter": "python",
   "pygments_lexer": "ipython3",
   "version": "3.6.13"
  }
 },
 "nbformat": 4,
 "nbformat_minor": 5
}
