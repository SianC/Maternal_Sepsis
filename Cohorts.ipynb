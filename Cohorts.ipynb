{
 "cells": [
  {
   "cell_type": "code",
   "execution_count": 37,
   "id": "44ef3476-baa1-4786-9ee8-3afa5243f7d2",
   "metadata": {},
   "outputs": [],
   "source": [
    "import numpy as np\n",
    "import pandas as pd\n",
    "from pandas import DataFrame\n",
    "import random"
   ]
  },
  {
   "cell_type": "code",
   "execution_count": 2,
   "id": "174cf4f5-99db-49a5-978c-ad74e4f274d4",
   "metadata": {},
   "outputs": [],
   "source": [
    "disc_inp_data = pd.read_csv('../Fresh_start/did_MIMIC_mimiciii_with_rewards.csv')"
   ]
  },
  {
   "cell_type": "code",
   "execution_count": 3,
   "id": "252cbe29-e591-483f-a116-6f931c25fb32",
   "metadata": {},
   "outputs": [],
   "source": [
    "#Import the list of pregnant patients ICUstay IDs\n",
    "pregnant_df = pd.read_csv(\"../Created Data/Pregnant_ids.csv\")"
   ]
  },
  {
   "cell_type": "code",
   "execution_count": 13,
   "id": "2d10f1cb-fbfe-4ce6-9216-027d7429056c",
   "metadata": {},
   "outputs": [],
   "source": [
    "pregnant_ids = pregnant_df[\"icustay_id\"]-200000"
   ]
  },
  {
   "cell_type": "code",
   "execution_count": 14,
   "id": "f5c06d31-4cc2-4ded-a738-4e16934da7b8",
   "metadata": {},
   "outputs": [],
   "source": [
    "pregnant_set = DataFrame()\n",
    "pregnant_set = disc_inp_data.loc[disc_inp_data['icustayid'].isin(pregnant_ids)]"
   ]
  },
  {
   "cell_type": "code",
   "execution_count": 21,
   "id": "2a11390b-c44e-4aa0-98e7-283f8146dfb3",
   "metadata": {},
   "outputs": [],
   "source": [
    "#List the age, sex and icustayid for each pregnant sepsis patient\n",
    "icustayid = []\n",
    "age=[]\n",
    "sex=[]\n",
    "pregnant_set = pregnant_set.reset_index()\n",
    "for i, row in pregnant_set.iterrows():\n",
    "    #print(i)\n",
    "    if i == 0:\n",
    "        j=i\n",
    "        icustayid.append(pregnant_set.loc[i,\"icustayid\"])\n",
    "        sex.append(pregnant_set.loc[i,\"gender\"])\n",
    "        age.append(pregnant_set.loc[i,\"age\"])\n",
    "        continue\n",
    "    else:\n",
    "        #print(row[\"bloc\"])\n",
    "        if pregnant_set.loc[i,\"icustayid\"] != pregnant_set.loc[j,\"icustayid\"]:\n",
    "            icustayid.append(pregnant_set.loc[i,\"icustayid\"])\n",
    "            sex.append(pregnant_set.loc[i,\"gender\"])\n",
    "            age.append(pregnant_set.loc[i,\"age\"])\n",
    "        j=i\n"
   ]
  },
  {
   "cell_type": "code",
   "execution_count": 23,
   "id": "fd0ca977-93db-4182-ab6e-8b2f498aab6b",
   "metadata": {},
   "outputs": [],
   "source": [
    "#Turn the age, sex, icustayids lists into a dataframe\n",
    "age_sex_preg_sep_df = pd.DataFrame(columns = [\"icustayid\", \"age\", \"sex\"])\n",
    "age_sex_preg_sep_df[\"icustayid\"] = icustayid\n",
    "age_sex_preg_sep_df[\"age\"] = age\n",
    "age_sex_preg_sep_df[\"sex\"] = sex"
   ]
  },
  {
   "cell_type": "code",
   "execution_count": 24,
   "id": "055a7c73-528d-48e9-8bf3-769cd0430510",
   "metadata": {},
   "outputs": [],
   "source": [
    "female_set = disc_inp_data.loc[disc_inp_data['gender'].isin([1])]"
   ]
  },
  {
   "cell_type": "code",
   "execution_count": 25,
   "id": "d3107034-c3fa-4ba6-80f2-96703b5193dd",
   "metadata": {},
   "outputs": [
    {
     "data": {
      "text/html": [
       "<div>\n",
       "<style scoped>\n",
       "    .dataframe tbody tr th:only-of-type {\n",
       "        vertical-align: middle;\n",
       "    }\n",
       "\n",
       "    .dataframe tbody tr th {\n",
       "        vertical-align: top;\n",
       "    }\n",
       "\n",
       "    .dataframe thead th {\n",
       "        text-align: right;\n",
       "    }\n",
       "</style>\n",
       "<table border=\"1\" class=\"dataframe\">\n",
       "  <thead>\n",
       "    <tr style=\"text-align: right;\">\n",
       "      <th></th>\n",
       "      <th>bloc</th>\n",
       "      <th>icustayid</th>\n",
       "      <th>charttime</th>\n",
       "      <th>gender</th>\n",
       "      <th>age</th>\n",
       "      <th>elixhauser</th>\n",
       "      <th>re_admission</th>\n",
       "      <th>died_in_hosp</th>\n",
       "      <th>died_within_48h_of_out_time</th>\n",
       "      <th>mortality_90d</th>\n",
       "      <th>...</th>\n",
       "      <th>input_4hourly</th>\n",
       "      <th>output_total</th>\n",
       "      <th>output_4hourly</th>\n",
       "      <th>cumulated_balance</th>\n",
       "      <th>SOFA</th>\n",
       "      <th>SIRS</th>\n",
       "      <th>vaso_input</th>\n",
       "      <th>iv_input</th>\n",
       "      <th>action</th>\n",
       "      <th>reward</th>\n",
       "    </tr>\n",
       "  </thead>\n",
       "  <tbody>\n",
       "    <tr>\n",
       "      <th>7</th>\n",
       "      <td>1</td>\n",
       "      <td>11</td>\n",
       "      <td>6898241400</td>\n",
       "      <td>1</td>\n",
       "      <td>30766.069</td>\n",
       "      <td>6</td>\n",
       "      <td>1</td>\n",
       "      <td>NaN</td>\n",
       "      <td>NaN</td>\n",
       "      <td>0.0</td>\n",
       "      <td>...</td>\n",
       "      <td>0.0</td>\n",
       "      <td>0.0</td>\n",
       "      <td>0.0</td>\n",
       "      <td>0.0</td>\n",
       "      <td>11</td>\n",
       "      <td>0</td>\n",
       "      <td>0.0</td>\n",
       "      <td>0.0</td>\n",
       "      <td>0</td>\n",
       "      <td>0.383136</td>\n",
       "    </tr>\n",
       "    <tr>\n",
       "      <th>8</th>\n",
       "      <td>2</td>\n",
       "      <td>11</td>\n",
       "      <td>6898255800</td>\n",
       "      <td>1</td>\n",
       "      <td>30766.069</td>\n",
       "      <td>6</td>\n",
       "      <td>1</td>\n",
       "      <td>NaN</td>\n",
       "      <td>NaN</td>\n",
       "      <td>0.0</td>\n",
       "      <td>...</td>\n",
       "      <td>0.0</td>\n",
       "      <td>460.0</td>\n",
       "      <td>460.0</td>\n",
       "      <td>-460.0</td>\n",
       "      <td>9</td>\n",
       "      <td>0</td>\n",
       "      <td>0.0</td>\n",
       "      <td>0.0</td>\n",
       "      <td>0</td>\n",
       "      <td>-0.271041</td>\n",
       "    </tr>\n",
       "    <tr>\n",
       "      <th>9</th>\n",
       "      <td>3</td>\n",
       "      <td>11</td>\n",
       "      <td>6898270200</td>\n",
       "      <td>1</td>\n",
       "      <td>30766.069</td>\n",
       "      <td>6</td>\n",
       "      <td>1</td>\n",
       "      <td>NaN</td>\n",
       "      <td>NaN</td>\n",
       "      <td>0.0</td>\n",
       "      <td>...</td>\n",
       "      <td>0.0</td>\n",
       "      <td>1020.0</td>\n",
       "      <td>560.0</td>\n",
       "      <td>-1020.0</td>\n",
       "      <td>7</td>\n",
       "      <td>1</td>\n",
       "      <td>0.0</td>\n",
       "      <td>0.0</td>\n",
       "      <td>0</td>\n",
       "      <td>-0.884898</td>\n",
       "    </tr>\n",
       "    <tr>\n",
       "      <th>10</th>\n",
       "      <td>4</td>\n",
       "      <td>11</td>\n",
       "      <td>6898284600</td>\n",
       "      <td>1</td>\n",
       "      <td>30766.069</td>\n",
       "      <td>6</td>\n",
       "      <td>1</td>\n",
       "      <td>NaN</td>\n",
       "      <td>NaN</td>\n",
       "      <td>0.0</td>\n",
       "      <td>...</td>\n",
       "      <td>0.0</td>\n",
       "      <td>1600.0</td>\n",
       "      <td>580.0</td>\n",
       "      <td>-1600.0</td>\n",
       "      <td>8</td>\n",
       "      <td>1</td>\n",
       "      <td>0.0</td>\n",
       "      <td>0.0</td>\n",
       "      <td>0</td>\n",
       "      <td>-0.025000</td>\n",
       "    </tr>\n",
       "    <tr>\n",
       "      <th>11</th>\n",
       "      <td>5</td>\n",
       "      <td>11</td>\n",
       "      <td>6898299000</td>\n",
       "      <td>1</td>\n",
       "      <td>30766.069</td>\n",
       "      <td>6</td>\n",
       "      <td>1</td>\n",
       "      <td>NaN</td>\n",
       "      <td>NaN</td>\n",
       "      <td>0.0</td>\n",
       "      <td>...</td>\n",
       "      <td>0.0</td>\n",
       "      <td>2020.0</td>\n",
       "      <td>420.0</td>\n",
       "      <td>-2020.0</td>\n",
       "      <td>8</td>\n",
       "      <td>1</td>\n",
       "      <td>0.0</td>\n",
       "      <td>0.0</td>\n",
       "      <td>0</td>\n",
       "      <td>-0.025000</td>\n",
       "    </tr>\n",
       "  </tbody>\n",
       "</table>\n",
       "<p>5 rows × 63 columns</p>\n",
       "</div>"
      ],
      "text/plain": [
       "    bloc  icustayid   charttime  gender        age  elixhauser  re_admission  \\\n",
       "7      1         11  6898241400       1  30766.069           6             1   \n",
       "8      2         11  6898255800       1  30766.069           6             1   \n",
       "9      3         11  6898270200       1  30766.069           6             1   \n",
       "10     4         11  6898284600       1  30766.069           6             1   \n",
       "11     5         11  6898299000       1  30766.069           6             1   \n",
       "\n",
       "    died_in_hosp  died_within_48h_of_out_time  mortality_90d  ...  \\\n",
       "7            NaN                          NaN            0.0  ...   \n",
       "8            NaN                          NaN            0.0  ...   \n",
       "9            NaN                          NaN            0.0  ...   \n",
       "10           NaN                          NaN            0.0  ...   \n",
       "11           NaN                          NaN            0.0  ...   \n",
       "\n",
       "    input_4hourly  output_total  output_4hourly  cumulated_balance  SOFA  \\\n",
       "7             0.0           0.0             0.0                0.0    11   \n",
       "8             0.0         460.0           460.0             -460.0     9   \n",
       "9             0.0        1020.0           560.0            -1020.0     7   \n",
       "10            0.0        1600.0           580.0            -1600.0     8   \n",
       "11            0.0        2020.0           420.0            -2020.0     8   \n",
       "\n",
       "    SIRS  vaso_input  iv_input  action    reward  \n",
       "7      0         0.0       0.0       0  0.383136  \n",
       "8      0         0.0       0.0       0 -0.271041  \n",
       "9      1         0.0       0.0       0 -0.884898  \n",
       "10     1         0.0       0.0       0 -0.025000  \n",
       "11     1         0.0       0.0       0 -0.025000  \n",
       "\n",
       "[5 rows x 63 columns]"
      ]
     },
     "execution_count": 25,
     "metadata": {},
     "output_type": "execute_result"
    }
   ],
   "source": [
    "female_set.head()"
   ]
  },
  {
   "cell_type": "code",
   "execution_count": 26,
   "id": "5a58866f-c21d-4b1b-85fb-bd541cc40b87",
   "metadata": {},
   "outputs": [],
   "source": [
    "female_not_preg_set = female_set.loc[~female_set['icustayid'].isin(pregnant_ids)]"
   ]
  },
  {
   "cell_type": "code",
   "execution_count": 28,
   "id": "4b4d807a-139a-4e1b-84f7-369ef5c83370",
   "metadata": {},
   "outputs": [],
   "source": [
    "not_preg_set = disc_inp_data.loc[~disc_inp_data['icustayid'].isin(pregnant_ids)]"
   ]
  },
  {
   "cell_type": "code",
   "execution_count": 29,
   "id": "5fa86b0c-0013-4703-9284-880da156a2c2",
   "metadata": {},
   "outputs": [],
   "source": [
    "#Find the age, sex and icustayid for each patient in the young_notpreg_df dataframe\n",
    "y_icustayid = []\n",
    "y_age=[]\n",
    "y_sex=[]\n",
    "for i, row in female_not_preg_set.iterrows():\n",
    "    #print(i)\n",
    "    if i == 12:\n",
    "        j=i\n",
    "        y_icustayid.append(row[\"icustayid\"])\n",
    "        y_sex.append(row[\"gender\"])\n",
    "        y_age.append(row[\"age\"])\n",
    "        other_row = row\n",
    "    else:\n",
    "        #print(row[\"bloc\"])\n",
    "        if female_not_preg_set.loc[i,\"icustayid\"] != female_not_preg_set.loc[j,\"icustayid\"]:\n",
    "            y_icustayid.append(row[\"icustayid\"])\n",
    "            y_sex.append(row[\"gender\"])\n",
    "            y_age.append(row[\"age\"])\n",
    "        j=i\n",
    "        other_row = row\n",
    "\n",
    "#Turn the lists into a dataframe\n",
    "age_sex_notpreg_sep_df = pd.DataFrame(columns = [\"icustayid\", \"age\", \"sex\"])\n",
    "age_sex_notpreg_sep_df[\"icustayid\"] = y_icustayid\n",
    "age_sex_notpreg_sep_df[\"age\"] = y_age\n",
    "age_sex_notpreg_sep_df[\"sex\"] = y_sex"
   ]
  },
  {
   "cell_type": "code",
   "execution_count": 31,
   "id": "e542e275-ae9d-459c-b6b7-8bd5a2b7462c",
   "metadata": {},
   "outputs": [],
   "source": [
    "#Find the age, sex and icustayid for each patient in the young_notpreg_df dataframe\n",
    "y_icustayid = []\n",
    "y_age=[]\n",
    "y_sex=[]\n",
    "for i, row in not_preg_set.iterrows():\n",
    "    #print(i)\n",
    "    if i == 12:\n",
    "        j=i\n",
    "        y_icustayid.append(row[\"icustayid\"])\n",
    "        y_sex.append(row[\"gender\"])\n",
    "        y_age.append(row[\"age\"])\n",
    "        other_row = row\n",
    "    else:\n",
    "        #print(row[\"bloc\"])\n",
    "        if not_preg_set.loc[i,\"icustayid\"] != not_preg_set.loc[j,\"icustayid\"]:\n",
    "            y_icustayid.append(row[\"icustayid\"])\n",
    "            y_sex.append(row[\"gender\"])\n",
    "            y_age.append(row[\"age\"])\n",
    "        j=i\n",
    "        other_row = row\n",
    "\n",
    "#Turn the lists into a dataframe\n",
    "all_age_sex_notpreg_sep_df = pd.DataFrame(columns = [\"icustayid\", \"age\", \"sex\"])\n",
    "all_age_sex_notpreg_sep_df[\"icustayid\"] = y_icustayid\n",
    "all_age_sex_notpreg_sep_df[\"age\"] = y_age\n",
    "all_age_sex_notpreg_sep_df[\"sex\"] = y_sex"
   ]
  },
  {
   "cell_type": "code",
   "execution_count": 34,
   "id": "8c60bdf7-e1c9-447f-a27c-42d965402157",
   "metadata": {},
   "outputs": [
    {
     "name": "stdout",
     "output_type": "stream",
     "text": [
      "0\n",
      "10\n",
      "20\n",
      "30\n",
      "40\n",
      "50\n",
      "60\n",
      "70\n"
     ]
    }
   ],
   "source": [
    "#Create a dataframe for each pregnant sepsis patient of potential matched (age&sex) controls\n",
    "list_of_df = []\n",
    "for i, row in age_sex_preg_sep_df.iterrows():\n",
    "    patient_df = pd.DataFrame(columns = age_sex_notpreg_sep_df.columns)\n",
    "    p_age = row[\"age\"]\n",
    "    #print(p_age)\n",
    "    for j, other_row in age_sex_notpreg_sep_df.iterrows():\n",
    "        \n",
    "        #print(\"sepsis = \", row[\"age\"])\n",
    "        #print(\"not sepsis = \", other_row[\"age\"])\n",
    "        if other_row[\"age\"] < p_age+365.25 and other_row[\"age\"] > p_age-365.25:\n",
    "            patient_df = patient_df.append(other_row)\n",
    "            #print(\"J = \", j)\n",
    "    list_of_df.append(patient_df)\n",
    "\n",
    "    if i/10 == i//10:\n",
    "        print(i)"
   ]
  },
  {
   "cell_type": "code",
   "execution_count": 35,
   "id": "a15d96a0-a2c5-4fb8-a95e-3eb1932c35d1",
   "metadata": {},
   "outputs": [
    {
     "name": "stdout",
     "output_type": "stream",
     "text": [
      "0\n",
      "10\n",
      "20\n",
      "30\n",
      "40\n",
      "50\n",
      "60\n",
      "70\n"
     ]
    }
   ],
   "source": [
    "#Create a dataframe for each pregnant sepsis patient of potential matched (age) controls \n",
    "list_of_sec_df = []\n",
    "for i, row in age_sex_preg_sep_df.iterrows():\n",
    "    patient_df = pd.DataFrame(columns = all_age_sex_notpreg_sep_df.columns)\n",
    "    p_age = row[\"age\"]\n",
    "    #print(p_age)\n",
    "    for j, other_row in all_age_sex_notpreg_sep_df.iterrows():\n",
    "        \n",
    "        #print(\"sepsis = \", row[\"age\"])\n",
    "        #print(\"not sepsis = \", other_row[\"age\"])\n",
    "        if other_row[\"age\"] < p_age+365.25 and other_row[\"age\"] > p_age-365.25:\n",
    "            patient_df = patient_df.append(other_row)\n",
    "            #print(\"J = \", j)\n",
    "    list_of_sec_df.append(patient_df)\n",
    "    #patient_df.head()\n",
    "    \n",
    "\n",
    "    if i/10 == i//10:\n",
    "        print(i)"
   ]
  },
  {
   "cell_type": "code",
   "execution_count": 38,
   "id": "408fd6f6-f78b-44e3-a683-362c385df7c8",
   "metadata": {},
   "outputs": [],
   "source": [
    "#Building a control group (age&sex)\n",
    "controlg_df = pd.DataFrame(columns = age_sex_notpreg_sep_df.columns)\n",
    "for i in range(0,len(list_of_df)):\n",
    "    group = random.sample(range(0, len(list_of_df[i]-1)), 5)\n",
    "    for j in group:\n",
    "        controlg_df = controlg_df.append(list_of_df[i].iloc[j])\n"
   ]
  },
  {
   "cell_type": "code",
   "execution_count": 39,
   "id": "867c6d18-e827-4139-9524-6f354aff54a1",
   "metadata": {},
   "outputs": [],
   "source": [
    "#Building a control group (age)\n",
    "controlg_sec_df = pd.DataFrame(columns = all_age_sex_notpreg_sep_df.columns)\n",
    "for i in range(0,len(list_of_sec_df)):\n",
    "    group = random.sample(range(0, len(list_of_sec_df[i]-1)), 5)\n",
    "    for j in group:\n",
    "        controlg_sec_df = controlg_sec_df.append(list_of_sec_df[i].iloc[j])"
   ]
  },
  {
   "cell_type": "code",
   "execution_count": 40,
   "id": "aa8686dc-09fe-4383-9d65-d5cde8bda1e5",
   "metadata": {},
   "outputs": [],
   "source": [
    "control_1_ids = controlg_df[\"icustayid\"]\n",
    "control_2_ids = controlg_sec_df[\"icustayid\"]\n",
    "\n",
    "control_1_set = DataFrame()\n",
    "control_1_set = disc_inp_data.loc[disc_inp_data['icustayid'].isin(control_1_ids)]\n",
    "\n",
    "control_2_set = DataFrame()\n",
    "control_2_set = disc_inp_data.loc[disc_inp_data['icustayid'].isin(control_2_ids)]"
   ]
  },
  {
   "cell_type": "code",
   "execution_count": 45,
   "id": "70f998f1-e484-4ccb-aab4-57716fa2f38d",
   "metadata": {},
   "outputs": [],
   "source": [
    "old_df = pd.read_csv(\"../Created Data/70_and_older_mimiciii.csv\")\n",
    "old_notsep_ids = old_df[\"icustay_id\"]-200000"
   ]
  },
  {
   "cell_type": "code",
   "execution_count": 46,
   "id": "379b2a70-2d77-4be7-8bb3-32e17a204a7b",
   "metadata": {},
   "outputs": [],
   "source": [
    "old_set = DataFrame()\n",
    "old_set = disc_inp_data.loc[disc_inp_data['icustayid'].isin(old_notsep_ids)]"
   ]
  },
  {
   "cell_type": "code",
   "execution_count": 49,
   "id": "d3e4a44e-9ea2-45f4-866e-8a74d6ec9e2d",
   "metadata": {},
   "outputs": [],
   "source": [
    "pregnant_set.to_csv(\"../Matlab/pregnant_data_nn.csv\", index=False)"
   ]
  },
  {
   "cell_type": "code",
   "execution_count": 50,
   "id": "445989ab-9762-4768-9a9a-0503764bc667",
   "metadata": {},
   "outputs": [],
   "source": [
    "control_1_set.to_csv(\"../Matlab/control_1_data_nn.csv\", index=False)"
   ]
  },
  {
   "cell_type": "code",
   "execution_count": 51,
   "id": "b384d99f-2a68-4fb1-bdd4-e1ee3226f59d",
   "metadata": {},
   "outputs": [],
   "source": [
    "control_2_set.to_csv(\"../Matlab/control_2_data_nn.csv\", index=False)"
   ]
  },
  {
   "cell_type": "code",
   "execution_count": 52,
   "id": "fa033c28-9fb8-4dfb-91b6-428bfeb489ee",
   "metadata": {},
   "outputs": [],
   "source": [
    "old_set.to_csv(\"../Matlab/old_data_nn.csv\", index=False)"
   ]
  },
  {
   "cell_type": "code",
   "execution_count": null,
   "id": "98eab314-6199-493c-aa88-7d1c54dc16ef",
   "metadata": {},
   "outputs": [],
   "source": []
  }
 ],
 "metadata": {
  "kernelspec": {
   "display_name": "Python 3 (ipykernel)",
   "language": "python",
   "name": "python3"
  },
  "language_info": {
   "codemirror_mode": {
    "name": "ipython",
    "version": 3
   },
   "file_extension": ".py",
   "mimetype": "text/x-python",
   "name": "python",
   "nbconvert_exporter": "python",
   "pygments_lexer": "ipython3",
   "version": "3.9.7"
  }
 },
 "nbformat": 4,
 "nbformat_minor": 5
}
